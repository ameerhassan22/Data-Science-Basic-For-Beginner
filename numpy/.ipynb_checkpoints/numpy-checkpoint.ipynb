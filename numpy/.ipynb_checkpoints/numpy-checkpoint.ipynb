{
 "cells": [
  {
   "cell_type": "markdown",
   "id": "bbcd8c55",
   "metadata": {},
   "source": [
    "# Numpy Library"
   ]
  },
  {
   "cell_type": "markdown",
   "id": "bf88ab9a",
   "metadata": {},
   "source": [
    "#### NumPy (Numerical Python) is an open source Python library that’s used in almost every field of science and engineering\n",
    "#### The NumPy library contains multidimensional array and matrix data structures\n",
    "#### It provides ndarray, a homogeneous n-dimensional array object, with methods to efficiently operate on it"
   ]
  },
  {
   "cell_type": "markdown",
   "id": "b0ce8586",
   "metadata": {},
   "source": [
    "### Install NumPy\n"
   ]
  },
  {
   "cell_type": "markdown",
   "id": "ffee9e80",
   "metadata": {},
   "source": [
    "If you already have Python, you can install Numpy with:\n",
    "\n",
    "conda install numpy or pip install numpy"
   ]
  },
  {
   "cell_type": "markdown",
   "id": "b7a455fe",
   "metadata": {},
   "source": [
    "### Import NumPy"
   ]
  },
  {
   "cell_type": "code",
   "execution_count": 1,
   "id": "b8ac9c5e",
   "metadata": {},
   "outputs": [
    {
     "name": "stdout",
     "output_type": "stream",
     "text": [
      "1.21.5\n"
     ]
    }
   ],
   "source": [
    "import numpy as np\n",
    "print(np.__version__)"
   ]
  },
  {
   "cell_type": "markdown",
   "id": "5ef8027f",
   "metadata": {},
   "source": [
    "### Difference between a Python list and a NumPy array"
   ]
  },
  {
   "cell_type": "markdown",
   "id": "29848175",
   "metadata": {},
   "source": [
    "NumPy gives you an enormous range of fast and efficient ways of creating arrays and manipulating numerical data inside them. While a Python list can contain different data types within a single list, all of the elements in a NumPy array should be homogeneous \n",
    "NumPy arrays are faster and more compact than Python lists. An array consumes less memory and is convenient to use. NumPy uses much less memory to store data and it provides a mechanism of specifying the data types. This allows the code to be optimized even further."
   ]
  },
  {
   "cell_type": "markdown",
   "id": "5e577db3",
   "metadata": {},
   "source": [
    "### Create a basic array"
   ]
  },
  {
   "cell_type": "code",
   "execution_count": 3,
   "id": "48b08e85",
   "metadata": {},
   "outputs": [
    {
     "data": {
      "text/plain": [
       "array([1, 2, 3])"
      ]
     },
     "execution_count": 3,
     "metadata": {},
     "output_type": "execute_result"
    }
   ],
   "source": [
    "# np.array()\n",
    "a = np.array([1,2,3])\n",
    "a"
   ]
  },
  {
   "cell_type": "code",
   "execution_count": 4,
   "id": "f89e253d",
   "metadata": {},
   "outputs": [
    {
     "data": {
      "text/plain": [
       "array([0., 0.])"
      ]
     },
     "execution_count": 4,
     "metadata": {},
     "output_type": "execute_result"
    }
   ],
   "source": [
    "# np.zeros()\n",
    "b = np.zeros(2)\n",
    "b"
   ]
  },
  {
   "cell_type": "code",
   "execution_count": 5,
   "id": "51b3ba08",
   "metadata": {},
   "outputs": [
    {
     "data": {
      "text/plain": [
       "array([1., 1.])"
      ]
     },
     "execution_count": 5,
     "metadata": {},
     "output_type": "execute_result"
    }
   ],
   "source": [
    "# np.ones()\n",
    "c = np.ones(2)\n",
    "c"
   ]
  },
  {
   "cell_type": "code",
   "execution_count": 9,
   "id": "74d8b327",
   "metadata": {},
   "outputs": [
    {
     "data": {
      "text/plain": [
       "array([8.28283414e-312, 8.90068588e-308])"
      ]
     },
     "execution_count": 9,
     "metadata": {},
     "output_type": "execute_result"
    }
   ],
   "source": [
    "# np.empty(2)\n",
    "d = np.empty(2)\n",
    "d"
   ]
  },
  {
   "cell_type": "code",
   "execution_count": 10,
   "id": "fb5c3616",
   "metadata": {},
   "outputs": [
    {
     "data": {
      "text/plain": [
       "array([0, 1, 2, 3])"
      ]
     },
     "execution_count": 10,
     "metadata": {},
     "output_type": "execute_result"
    }
   ],
   "source": [
    "# np.arange()\n",
    "e = np.arange(4)\n",
    "e"
   ]
  },
  {
   "cell_type": "code",
   "execution_count": 11,
   "id": "d23bd2b9",
   "metadata": {},
   "outputs": [
    {
     "data": {
      "text/plain": [
       "array([2, 4, 6, 8])"
      ]
     },
     "execution_count": 11,
     "metadata": {},
     "output_type": "execute_result"
    }
   ],
   "source": [
    "f = np.arange(2, 9, 2)\n",
    "f\n"
   ]
  },
  {
   "cell_type": "code",
   "execution_count": 13,
   "id": "ce4c0b55",
   "metadata": {},
   "outputs": [
    {
     "data": {
      "text/plain": [
       "array([ 0. ,  2.5,  5. ,  7.5, 10. ])"
      ]
     },
     "execution_count": 13,
     "metadata": {},
     "output_type": "execute_result"
    }
   ],
   "source": [
    "# np.linspace()\n",
    "h = np.linspace(0, 10, num=5)\n",
    "h"
   ]
  },
  {
   "cell_type": "code",
   "execution_count": 207,
   "id": "eaa7d137",
   "metadata": {},
   "outputs": [
    {
     "data": {
      "text/plain": [
       "array([[1., 0., 0.],\n",
       "       [0., 1., 0.],\n",
       "       [0., 0., 1.]])"
      ]
     },
     "execution_count": 207,
     "metadata": {},
     "output_type": "execute_result"
    }
   ],
   "source": [
    "# np.eye\n",
    "y = np.eye(3)\n",
    "y"
   ]
  },
  {
   "cell_type": "code",
   "execution_count": 209,
   "id": "d406210e",
   "metadata": {},
   "outputs": [
    {
     "data": {
      "text/plain": [
       "array([[1., 0., 0.],\n",
       "       [0., 1., 0.]])"
      ]
     },
     "execution_count": 209,
     "metadata": {},
     "output_type": "execute_result"
    }
   ],
   "source": [
    "y = np.eye(2,3)\n",
    "y"
   ]
  },
  {
   "cell_type": "code",
   "execution_count": 210,
   "id": "06789414",
   "metadata": {},
   "outputs": [
    {
     "data": {
      "text/plain": [
       "array([ 1,  6, 11])"
      ]
     },
     "execution_count": 210,
     "metadata": {},
     "output_type": "execute_result"
    }
   ],
   "source": [
    "x = np.array([[1, 2, 3, 4], [5, 6, 7, 8], [9, 10, 11, 12]])\n",
    "v = x.diagonal()\n",
    "v"
   ]
  },
  {
   "cell_type": "markdown",
   "id": "5e0b3104",
   "metadata": {},
   "source": [
    "Specifying your data type"
   ]
  },
  {
   "cell_type": "code",
   "execution_count": 14,
   "id": "ff5b79c7",
   "metadata": {},
   "outputs": [
    {
     "data": {
      "text/plain": [
       "array([1, 1], dtype=int64)"
      ]
     },
     "execution_count": 14,
     "metadata": {},
     "output_type": "execute_result"
    }
   ],
   "source": [
    "x = np.ones(2, dtype=np.int64)\n",
    "x"
   ]
  },
  {
   "cell_type": "markdown",
   "id": "a96d7f84",
   "metadata": {},
   "source": [
    "### Shape and Size of an array"
   ]
  },
  {
   "cell_type": "markdown",
   "id": "fe38ae11",
   "metadata": {},
   "source": [
    "#### ndim : will tell you the number of axes, or dimensions, of the array.\n",
    "\n",
    "#### size : will tell you the total number of elements of the array. This is the product of the elements of the array’s shape.\n",
    "\n",
    "####  shape : will display a tuple of integers that indicate the number of elements stored along each dimension of the array"
   ]
  },
  {
   "cell_type": "code",
   "execution_count": 15,
   "id": "268ae51d",
   "metadata": {},
   "outputs": [],
   "source": [
    "array_example = np.array([[[0, 1, 2, 3],\n",
    "                           [4, 5, 6, 7]],\n",
    "\n",
    "                          [[0, 1, 2, 3],\n",
    "                           [4, 5, 6, 7]],\n",
    "\n",
    "                          [[0 ,1 ,2, 3],\n",
    "                           [4, 5, 6, 7]]])"
   ]
  },
  {
   "cell_type": "code",
   "execution_count": 16,
   "id": "cf4d75a5",
   "metadata": {},
   "outputs": [
    {
     "data": {
      "text/plain": [
       "3"
      ]
     },
     "execution_count": 16,
     "metadata": {},
     "output_type": "execute_result"
    }
   ],
   "source": [
    "array_example.ndim"
   ]
  },
  {
   "cell_type": "code",
   "execution_count": 17,
   "id": "962771d5",
   "metadata": {},
   "outputs": [
    {
     "data": {
      "text/plain": [
       "24"
      ]
     },
     "execution_count": 17,
     "metadata": {},
     "output_type": "execute_result"
    }
   ],
   "source": [
    "array_example.size"
   ]
  },
  {
   "cell_type": "code",
   "execution_count": 18,
   "id": "cd844efa",
   "metadata": {},
   "outputs": [
    {
     "data": {
      "text/plain": [
       "(3, 2, 4)"
      ]
     },
     "execution_count": 18,
     "metadata": {},
     "output_type": "execute_result"
    }
   ],
   "source": [
    "array_example.shape"
   ]
  },
  {
   "cell_type": "markdown",
   "id": "d5209bec",
   "metadata": {},
   "source": [
    "### Reshape an array"
   ]
  },
  {
   "cell_type": "code",
   "execution_count": 19,
   "id": "2818ed5b",
   "metadata": {},
   "outputs": [
    {
     "data": {
      "text/plain": [
       "array([[0, 1, 2],\n",
       "       [3, 4, 5]])"
      ]
     },
     "execution_count": 19,
     "metadata": {},
     "output_type": "execute_result"
    }
   ],
   "source": [
    "# arr.reshape()\n",
    "a = np.arange(6).reshape(2,3)\n",
    "a\n",
    " "
   ]
  },
  {
   "cell_type": "code",
   "execution_count": 22,
   "id": "6e15080b",
   "metadata": {},
   "outputs": [
    {
     "data": {
      "text/plain": [
       "array([[0, 1, 2, 3, 4, 5]])"
      ]
     },
     "execution_count": 22,
     "metadata": {},
     "output_type": "execute_result"
    }
   ],
   "source": [
    "a = np.reshape(a, newshape=(1, 6))\n",
    "a"
   ]
  },
  {
   "cell_type": "code",
   "execution_count": 23,
   "id": "5e28ae53",
   "metadata": {},
   "outputs": [
    {
     "data": {
      "text/plain": [
       "array([[0., 0.],\n",
       "       [0., 0.],\n",
       "       [0., 0.],\n",
       "       [0., 0.]])"
      ]
     },
     "execution_count": 23,
     "metadata": {},
     "output_type": "execute_result"
    }
   ],
   "source": [
    "b = np.zeros(8).reshape(4,2)\n",
    "b"
   ]
  },
  {
   "cell_type": "markdown",
   "id": "14943a36",
   "metadata": {},
   "source": [
    "### Convert a 1D array into a 2D array "
   ]
  },
  {
   "cell_type": "code",
   "execution_count": 24,
   "id": "c2af281e",
   "metadata": {},
   "outputs": [
    {
     "data": {
      "text/plain": [
       "(6,)"
      ]
     },
     "execution_count": 24,
     "metadata": {},
     "output_type": "execute_result"
    }
   ],
   "source": [
    "# np.newaxis\n",
    "a = np.array([1, 2, 3, 4, 5, 6])\n",
    "a.shape"
   ]
  },
  {
   "cell_type": "code",
   "execution_count": 25,
   "id": "6f201e29",
   "metadata": {},
   "outputs": [
    {
     "data": {
      "text/plain": [
       "(1, 6)"
      ]
     },
     "execution_count": 25,
     "metadata": {},
     "output_type": "execute_result"
    }
   ],
   "source": [
    "row_vector = a[np.newaxis, :]\n",
    "row_vector.shape"
   ]
  },
  {
   "cell_type": "code",
   "execution_count": 26,
   "id": "302bbda6",
   "metadata": {},
   "outputs": [
    {
     "data": {
      "text/plain": [
       "(6, 1)"
      ]
     },
     "execution_count": 26,
     "metadata": {},
     "output_type": "execute_result"
    }
   ],
   "source": [
    "col_vector = a[:, np.newaxis]\n",
    "col_vector.shape"
   ]
  },
  {
   "cell_type": "code",
   "execution_count": 27,
   "id": "12ba380b",
   "metadata": {},
   "outputs": [
    {
     "data": {
      "text/plain": [
       "(6,)"
      ]
     },
     "execution_count": 27,
     "metadata": {},
     "output_type": "execute_result"
    }
   ],
   "source": [
    "# np.expand_dims\n",
    "a = np.array([1, 2, 3, 4, 5, 6])\n",
    "a.shape"
   ]
  },
  {
   "cell_type": "code",
   "execution_count": 28,
   "id": "95efd90b",
   "metadata": {},
   "outputs": [
    {
     "data": {
      "text/plain": [
       "(6, 1)"
      ]
     },
     "execution_count": 28,
     "metadata": {},
     "output_type": "execute_result"
    }
   ],
   "source": [
    "b = np.expand_dims(a, axis=1)\n",
    "b.shape"
   ]
  },
  {
   "cell_type": "code",
   "execution_count": 29,
   "id": "82cee016",
   "metadata": {},
   "outputs": [
    {
     "data": {
      "text/plain": [
       "(1, 6)"
      ]
     },
     "execution_count": 29,
     "metadata": {},
     "output_type": "execute_result"
    }
   ],
   "source": [
    "c = np.expand_dims(a, axis=0)\n",
    "c.shape"
   ]
  },
  {
   "cell_type": "markdown",
   "id": "cb277291",
   "metadata": {},
   "source": [
    "### Indexing and Slicing"
   ]
  },
  {
   "cell_type": "code",
   "execution_count": 30,
   "id": "5ddaf8b9",
   "metadata": {},
   "outputs": [],
   "source": [
    "data = np.array([1, 2, 3])"
   ]
  },
  {
   "cell_type": "code",
   "execution_count": 31,
   "id": "27a75953",
   "metadata": {},
   "outputs": [
    {
     "data": {
      "text/plain": [
       "2"
      ]
     },
     "execution_count": 31,
     "metadata": {},
     "output_type": "execute_result"
    }
   ],
   "source": [
    "data[1]\n"
   ]
  },
  {
   "cell_type": "code",
   "execution_count": 32,
   "id": "32047f79",
   "metadata": {},
   "outputs": [
    {
     "data": {
      "text/plain": [
       "array([1, 2])"
      ]
     },
     "execution_count": 32,
     "metadata": {},
     "output_type": "execute_result"
    }
   ],
   "source": [
    "data[0:2]"
   ]
  },
  {
   "cell_type": "code",
   "execution_count": 33,
   "id": "5aaa7329",
   "metadata": {},
   "outputs": [
    {
     "data": {
      "text/plain": [
       "array([2, 3])"
      ]
     },
     "execution_count": 33,
     "metadata": {},
     "output_type": "execute_result"
    }
   ],
   "source": [
    "data[1:]"
   ]
  },
  {
   "cell_type": "code",
   "execution_count": 34,
   "id": "926d3f05",
   "metadata": {},
   "outputs": [
    {
     "data": {
      "text/plain": [
       "array([2, 3])"
      ]
     },
     "execution_count": 34,
     "metadata": {},
     "output_type": "execute_result"
    }
   ],
   "source": [
    "data[-2:]"
   ]
  },
  {
   "cell_type": "code",
   "execution_count": 36,
   "id": "623ca2f3",
   "metadata": {},
   "outputs": [],
   "source": [
    "# another example\n",
    "s = np.array([[1, 2, 3, 4], [5, 6, 7, 8], [9, 10, 11, 12]])"
   ]
  },
  {
   "cell_type": "code",
   "execution_count": 38,
   "id": "38fd40aa",
   "metadata": {},
   "outputs": [
    {
     "name": "stdout",
     "output_type": "stream",
     "text": [
      "[1 2 3 4]\n"
     ]
    }
   ],
   "source": [
    "# You can easily print all of the values in the array that are less than 5\n",
    "print(s[s < 5])"
   ]
  },
  {
   "cell_type": "code",
   "execution_count": 45,
   "id": "d274541f",
   "metadata": {},
   "outputs": [
    {
     "name": "stdout",
     "output_type": "stream",
     "text": [
      "[ 5  6  7  8  9 10 11 12]\n"
     ]
    }
   ],
   "source": [
    "# numbers that are equal to or greater than 5, and use that condition to index an array.\n",
    "five_up = np.logical_or(s == 5 , s > 5)   # five_up = (a >= 5)\n",
    "print(s[five_up])"
   ]
  },
  {
   "cell_type": "code",
   "execution_count": 48,
   "id": "7d42d2a5",
   "metadata": {},
   "outputs": [
    {
     "name": "stdout",
     "output_type": "stream",
     "text": [
      "[ 2  4  6  8 10 12]\n"
     ]
    }
   ],
   "source": [
    "divisible_by_2 = s[s % 2 == 0]\n",
    "print(divisible_by_2)"
   ]
  },
  {
   "cell_type": "code",
   "execution_count": 49,
   "id": "04b42dce",
   "metadata": {},
   "outputs": [
    {
     "name": "stdout",
     "output_type": "stream",
     "text": [
      "(array([0, 0, 0, 0], dtype=int64), array([0, 1, 2, 3], dtype=int64))\n"
     ]
    }
   ],
   "source": [
    "# np.nonzero()\n",
    "a = np.array([[1, 2, 3, 4], [5, 6, 7, 8], [9, 10, 11, 12]])\n",
    "b = np.nonzero(a < 5)\n",
    "print(b)"
   ]
  },
  {
   "cell_type": "markdown",
   "id": "9693eefd",
   "metadata": {},
   "source": [
    "### Create an array from existing data\n"
   ]
  },
  {
   "cell_type": "markdown",
   "id": "f8edb4d4",
   "metadata": {},
   "source": [
    "view method to create a new array object that looks at the same data as the original array (a shallow copy).\n",
    "view affect of original array object"
   ]
  },
  {
   "cell_type": "code",
   "execution_count": 78,
   "id": "fed764e4",
   "metadata": {},
   "outputs": [
    {
     "data": {
      "text/plain": [
       "True"
      ]
     },
     "execution_count": 78,
     "metadata": {},
     "output_type": "execute_result"
    }
   ],
   "source": [
    "a = np.array([[ 0,  1,  2,  3],\n",
    "              [ 4,  5,  6,  7],\n",
    "              [ 8,  9, 10, 11]])\n",
    "b = a            # no new object is created\n",
    "b is a           # a and b are two names for the same ndarray object"
   ]
  },
  {
   "cell_type": "code",
   "execution_count": 63,
   "id": "2e6c5aa3",
   "metadata": {},
   "outputs": [
    {
     "name": "stdout",
     "output_type": "stream",
     "text": [
      "1676505315056   1676505315056\n"
     ]
    }
   ],
   "source": [
    "print(id(a),' ',id(b))"
   ]
  },
  {
   "cell_type": "code",
   "execution_count": 64,
   "id": "d482ef71",
   "metadata": {},
   "outputs": [
    {
     "data": {
      "text/plain": [
       "False"
      ]
     },
     "execution_count": 64,
     "metadata": {},
     "output_type": "execute_result"
    }
   ],
   "source": [
    "c = a.view()\n",
    "c is a"
   ]
  },
  {
   "cell_type": "code",
   "execution_count": 65,
   "id": "4c0a1c3d",
   "metadata": {},
   "outputs": [
    {
     "name": "stdout",
     "output_type": "stream",
     "text": [
      "1676505315056   1676537048880\n"
     ]
    }
   ],
   "source": [
    "print(id(a),' ',id(c))"
   ]
  },
  {
   "cell_type": "code",
   "execution_count": 80,
   "id": "a4b489ce",
   "metadata": {},
   "outputs": [
    {
     "name": "stdout",
     "output_type": "stream",
     "text": [
      "a =\n",
      " [[1000    1    2    3]\n",
      " [   4    5    6    7]\n",
      " [   8    9   10   11]] \n",
      "c\n",
      " =\n",
      " [[1000    1    2    3]\n",
      " [   4    5    6    7]\n",
      " [   8    9   10   11]]\n"
     ]
    }
   ],
   "source": [
    "a[0][0]=1000\n",
    "print('a =\\n',a,'\\nc\\n =\\n',c )"
   ]
  },
  {
   "cell_type": "markdown",
   "id": "2a86b411",
   "metadata": {},
   "source": [
    "The copy method makes a complete copy of the array and its data."
   ]
  },
  {
   "cell_type": "code",
   "execution_count": 81,
   "id": "9d2f9981",
   "metadata": {},
   "outputs": [
    {
     "data": {
      "text/plain": [
       "False"
      ]
     },
     "execution_count": 81,
     "metadata": {},
     "output_type": "execute_result"
    }
   ],
   "source": [
    "d = a.copy()  # a new array object with new data is created\n",
    "d is a"
   ]
  },
  {
   "cell_type": "code",
   "execution_count": 82,
   "id": "1f0dc430",
   "metadata": {},
   "outputs": [
    {
     "name": "stdout",
     "output_type": "stream",
     "text": [
      "a =\n",
      " [[1000    1    2    3]\n",
      " [   4    5    6    7]\n",
      " [   8    9   10   11]] \n",
      "d\n",
      " =\n",
      " [[9999    1    2    3]\n",
      " [   4    5    6    7]\n",
      " [   8    9   10   11]]\n"
     ]
    }
   ],
   "source": [
    "d[0, 0] = 9999\n",
    "print('a =\\n',a,'\\nd\\n =\\n',d )"
   ]
  },
  {
   "cell_type": "markdown",
   "id": "0ffe10ce",
   "metadata": {},
   "source": [
    "### vstack"
   ]
  },
  {
   "cell_type": "markdown",
   "id": "3d47935e",
   "metadata": {},
   "source": [
    "default : work for the first axis"
   ]
  },
  {
   "cell_type": "code",
   "execution_count": 106,
   "id": "b8fa98f4",
   "metadata": {},
   "outputs": [
    {
     "name": "stdout",
     "output_type": "stream",
     "text": [
      "(3,) (3,)\n",
      "[[1 2 3]\n",
      " [4 5 6]] \t (2, 3)\n"
     ]
    }
   ],
   "source": [
    "# 1- dimensions\n",
    "a = np.array([1, 2, 3])\n",
    "b = np.array([4, 5, 6])\n",
    "print(a.shape,b.shape)\n",
    "z = np.vstack((a,b))\n",
    "print(z,'\\t',z.shape)\n"
   ]
  },
  {
   "cell_type": "code",
   "execution_count": 100,
   "id": "76536330",
   "metadata": {},
   "outputs": [
    {
     "name": "stdout",
     "output_type": "stream",
     "text": [
      "(3, 1) (3, 1)\n",
      "[[1]\n",
      " [2]\n",
      " [3]\n",
      " [4]\n",
      " [5]\n",
      " [6]] \t (6, 1)\n"
     ]
    }
   ],
   "source": [
    "# 2-dimensions\n",
    "a = np.array([[1], [2], [3]])\n",
    "b = np.array([[4], [5], [6]])\n",
    "print(a.shape,b.shape)\n",
    "z = np.vstack((a,b))\n",
    "print(z,'\\t',z.shape)\n"
   ]
  },
  {
   "cell_type": "code",
   "execution_count": 101,
   "id": "743d6c9e",
   "metadata": {},
   "outputs": [
    {
     "name": "stdout",
     "output_type": "stream",
     "text": [
      "(3, 2) (3, 2)\n",
      "[[ 4  9]\n",
      " [ 1  3]\n",
      " [ 8  0]\n",
      " [77  6]\n",
      " [80 19]\n",
      " [32 49]] \t (6, 2)\n"
     ]
    }
   ],
   "source": [
    "# 2-dimensions\n",
    "a = np.array([[4,9],[1,3],[8,0]])\n",
    "b = np.array([[77,6],[80,19],[32,49]])\n",
    "print(a.shape,b.shape)\n",
    "z = np.vstack((a,b))\n",
    "print(z,'\\t',z.shape)\n"
   ]
  },
  {
   "cell_type": "code",
   "execution_count": 102,
   "id": "d41bceb6",
   "metadata": {},
   "outputs": [
    {
     "name": "stdout",
     "output_type": "stream",
     "text": [
      "(1, 3, 2) (1, 3, 2)\n",
      "[[[ 4  9]\n",
      "  [ 1  3]\n",
      "  [ 8  0]]\n",
      "\n",
      " [[77  6]\n",
      "  [80 19]\n",
      "  [32 49]]] \t (2, 3, 2)\n"
     ]
    }
   ],
   "source": [
    "# 3-dimensions\n",
    "a = np.array([[[4,9],[1,3],[8,0]]])\n",
    "b = np.array([[[77,6],[80,19],[32,49]]])\n",
    "print(a.shape,b.shape)\n",
    "z = np.vstack((a,b))\n",
    "print(z,'\\t',z.shape)"
   ]
  },
  {
   "cell_type": "markdown",
   "id": "599926ae",
   "metadata": {},
   "source": [
    "### hstack"
   ]
  },
  {
   "cell_type": "markdown",
   "id": "db934b74",
   "metadata": {},
   "source": [
    "default : work for the second axis"
   ]
  },
  {
   "cell_type": "code",
   "execution_count": 103,
   "id": "ef31fd60",
   "metadata": {},
   "outputs": [
    {
     "name": "stdout",
     "output_type": "stream",
     "text": [
      "(3,) (3,)\n",
      "[1 2 3 4 5 6] \t (6,)\n"
     ]
    }
   ],
   "source": [
    "# 1- dimensions\n",
    "a = np.array([1,2,3])\n",
    "b = np.array([4,5,6])\n",
    "print(a.shape,b.shape)\n",
    "z = np.hstack((a,b))\n",
    "print(z,'\\t',z.shape)"
   ]
  },
  {
   "cell_type": "code",
   "execution_count": 104,
   "id": "fc1be2f3",
   "metadata": {},
   "outputs": [
    {
     "name": "stdout",
     "output_type": "stream",
     "text": [
      "(3, 2) (3, 2)\n",
      "[[ 4  9 77  6]\n",
      " [ 1  3 80 19]\n",
      " [ 8  0 32 49]] \t (3, 4)\n"
     ]
    }
   ],
   "source": [
    "# 2-dimensions\n",
    "a = np.array([[4,9],[1,3],[8,0]])\n",
    "b = np.array([[77,6],[80,19],[32,49]])\n",
    "print(a.shape,b.shape)\n",
    "z = np.hstack((a,b))\n",
    "print(z,'\\t',z.shape)"
   ]
  },
  {
   "cell_type": "code",
   "execution_count": 105,
   "id": "c9a03e84",
   "metadata": {},
   "outputs": [
    {
     "name": "stdout",
     "output_type": "stream",
     "text": [
      "(1, 3, 2) (1, 3, 2)\n",
      "[[[ 4  9]\n",
      "  [ 1  3]\n",
      "  [ 8  0]\n",
      "  [77  6]\n",
      "  [80 19]\n",
      "  [32 49]]] \t (1, 6, 2)\n"
     ]
    }
   ],
   "source": [
    "# 3-dimensions\n",
    "a = np.array([[[4,9],[1,3],[8,0]]])\n",
    "b = np.array([[[77,6],[80,19],[32,49]]])\n",
    "print(a.shape,b.shape)\n",
    "z = np.hstack((a,b))\n",
    "print(z,'\\t',z.shape)"
   ]
  },
  {
   "cell_type": "markdown",
   "id": "5991719a",
   "metadata": {},
   "source": [
    "### dstack"
   ]
  },
  {
   "cell_type": "markdown",
   "id": "c6b8f4ae",
   "metadata": {},
   "source": [
    "The array formed by stacking the given arrays, will be at least 3-D.\n",
    "he arrays must have the same shape along all but the third axis"
   ]
  },
  {
   "cell_type": "code",
   "execution_count": 107,
   "id": "c9bfbee0",
   "metadata": {},
   "outputs": [
    {
     "name": "stdout",
     "output_type": "stream",
     "text": [
      "(3,) (3,)\n",
      "[[[1 4]\n",
      "  [2 5]\n",
      "  [3 6]]] \t (1, 3, 2)\n"
     ]
    }
   ],
   "source": [
    "# 1- dimensions\n",
    "a = np.array([1, 2, 3])\n",
    "b = np.array([4, 5, 6])\n",
    "print(a.shape,b.shape)\n",
    "z = np.dstack((a,b))\n",
    "print(z,'\\t',z.shape)\n"
   ]
  },
  {
   "cell_type": "code",
   "execution_count": 108,
   "id": "61785790",
   "metadata": {},
   "outputs": [
    {
     "name": "stdout",
     "output_type": "stream",
     "text": [
      "(3, 2) (3, 2)\n",
      "[[[ 4 77]\n",
      "  [ 9  6]]\n",
      "\n",
      " [[ 1 80]\n",
      "  [ 3 19]]\n",
      "\n",
      " [[ 8 32]\n",
      "  [ 0 49]]] \t (3, 2, 2)\n"
     ]
    }
   ],
   "source": [
    "# 2-dimensions\n",
    "a = np.array([[4,9],[1,3],[8,0]])\n",
    "b = np.array([[77,6],[80,19],[32,49]])\n",
    "print(a.shape,b.shape)\n",
    "z = np.dstack((a,b))\n",
    "print(z,'\\t',z.shape)"
   ]
  },
  {
   "cell_type": "code",
   "execution_count": 109,
   "id": "47b212c9",
   "metadata": {},
   "outputs": [
    {
     "name": "stdout",
     "output_type": "stream",
     "text": [
      "(1, 3, 2) (1, 3, 2)\n",
      "[[[ 4  9]\n",
      "  [ 1  3]\n",
      "  [ 8  0]\n",
      "  [77  6]\n",
      "  [80 19]\n",
      "  [32 49]]] \t (1, 6, 2)\n"
     ]
    }
   ],
   "source": [
    "# 3-dimensions\n",
    "a = np.array([[[4,9],[1,3],[8,0]]])\n",
    "b = np.array([[[77,6],[80,19],[32,49]]])\n",
    "print(a.shape,b.shape)\n",
    "z = np.hstack((a,b))\n",
    "print(z,'\\t',z.shape)"
   ]
  },
  {
   "cell_type": "markdown",
   "id": "0e699df8",
   "metadata": {},
   "source": [
    "### block"
   ]
  },
  {
   "cell_type": "code",
   "execution_count": 211,
   "id": "4bed5a18",
   "metadata": {},
   "outputs": [
    {
     "data": {
      "text/plain": [
       "array([[ 1.,  1.,  1.,  0.],\n",
       "       [ 1.,  1.,  0.,  1.],\n",
       "       [ 0.,  0., -3.,  0.],\n",
       "       [ 0.,  0.,  0., -4.]])"
      ]
     },
     "execution_count": 211,
     "metadata": {},
     "output_type": "execute_result"
    }
   ],
   "source": [
    "A = np.ones((2, 2))\n",
    "B = np.eye(2, 2)\n",
    "C = np.zeros((2, 2))\n",
    "D = np.diag((-3, -4))\n",
    "x = np.block([[A, B], [C, D]])\n",
    "x"
   ]
  },
  {
   "cell_type": "code",
   "execution_count": null,
   "id": "25cfb6fb",
   "metadata": {
    "collapsed": true
   },
   "outputs": [],
   "source": []
  },
  {
   "cell_type": "markdown",
   "id": "51f8b4b8",
   "metadata": {},
   "source": [
    "### Basic array operations"
   ]
  },
  {
   "cell_type": "code",
   "execution_count": 113,
   "id": "3b8cbaa3",
   "metadata": {},
   "outputs": [
    {
     "data": {
      "text/plain": [
       "array([ 6,  8, 10, 12, 14, 16, 18, 20, 22, 24])"
      ]
     },
     "execution_count": 113,
     "metadata": {},
     "output_type": "execute_result"
    }
   ],
   "source": [
    "data = np.arange(5,25,2)\n",
    "ones = np.ones(10, dtype=int)\n",
    "data + ones"
   ]
  },
  {
   "cell_type": "code",
   "execution_count": 121,
   "id": "ef101987",
   "metadata": {},
   "outputs": [
    {
     "name": "stdout",
     "output_type": "stream",
     "text": [
      "10 \t 140\n"
     ]
    }
   ],
   "source": [
    "print(ones.sum(),'\\t',data.sum())"
   ]
  },
  {
   "cell_type": "code",
   "execution_count": 122,
   "id": "88ebd892",
   "metadata": {},
   "outputs": [
    {
     "name": "stdout",
     "output_type": "stream",
     "text": [
      "1 \t 23\n"
     ]
    }
   ],
   "source": [
    "print(ones.max(),'\\t',data.max())"
   ]
  },
  {
   "cell_type": "code",
   "execution_count": 123,
   "id": "8fbf58ce",
   "metadata": {},
   "outputs": [
    {
     "name": "stdout",
     "output_type": "stream",
     "text": [
      "1 \t 5\n"
     ]
    }
   ],
   "source": [
    "print(ones.min(),'\\t',data.min())"
   ]
  },
  {
   "cell_type": "code",
   "execution_count": 125,
   "id": "e2c5e138",
   "metadata": {},
   "outputs": [
    {
     "name": "stdout",
     "output_type": "stream",
     "text": [
      "0 \t 9\n"
     ]
    }
   ],
   "source": [
    "print(ones.argmax(),'\\t',data.argmax())"
   ]
  },
  {
   "cell_type": "code",
   "execution_count": 126,
   "id": "b1b398ec",
   "metadata": {},
   "outputs": [
    {
     "name": "stdout",
     "output_type": "stream",
     "text": [
      "0 \t 0\n"
     ]
    }
   ],
   "source": [
    "print(ones.argmin(),'\\t',data.argmin())"
   ]
  },
  {
   "cell_type": "code",
   "execution_count": 124,
   "id": "ab9c9217",
   "metadata": {},
   "outputs": [
    {
     "name": "stdout",
     "output_type": "stream",
     "text": [
      "1.0 \t 14.0\n"
     ]
    }
   ],
   "source": [
    "print(ones.mean(),'\\t',data.mean())"
   ]
  },
  {
   "cell_type": "code",
   "execution_count": 128,
   "id": "eaf3d6e0",
   "metadata": {},
   "outputs": [],
   "source": [
    "b = np.array([[1, 1], [2, 2]])"
   ]
  },
  {
   "cell_type": "code",
   "execution_count": 129,
   "id": "4280371c",
   "metadata": {},
   "outputs": [
    {
     "data": {
      "text/plain": [
       "array([3, 3])"
      ]
     },
     "execution_count": 129,
     "metadata": {},
     "output_type": "execute_result"
    }
   ],
   "source": [
    "b.sum(axis=0)"
   ]
  },
  {
   "cell_type": "code",
   "execution_count": 131,
   "id": "841889b8",
   "metadata": {},
   "outputs": [
    {
     "data": {
      "text/plain": [
       "array([2, 4])"
      ]
     },
     "execution_count": 131,
     "metadata": {},
     "output_type": "execute_result"
    }
   ],
   "source": [
    "b.sum(axis=1)"
   ]
  },
  {
   "cell_type": "markdown",
   "id": "587d77f4",
   "metadata": {},
   "source": [
    "### Generating Random numbers"
   ]
  },
  {
   "cell_type": "code",
   "execution_count": 138,
   "id": "88534b56",
   "metadata": {},
   "outputs": [
    {
     "data": {
      "text/plain": [
       "array([0.19251249, 0.98261793, 0.4077759 , 0.40205882, 0.68941585,\n",
       "       0.34424362, 0.06840312, 0.72876987, 0.41592897, 0.56183738])"
      ]
     },
     "execution_count": 138,
     "metadata": {},
     "output_type": "execute_result"
    }
   ],
   "source": [
    "x = np.random.random(10)\n",
    "x"
   ]
  },
  {
   "cell_type": "code",
   "execution_count": 139,
   "id": "e949102d",
   "metadata": {},
   "outputs": [
    {
     "data": {
      "text/plain": [
       "array([[0.98751679, 0.04613244, 0.53087981],\n",
       "       [0.51339046, 0.85772333, 0.04270838],\n",
       "       [0.94333803, 0.19528454, 0.49658794]])"
      ]
     },
     "execution_count": 139,
     "metadata": {},
     "output_type": "execute_result"
    }
   ],
   "source": [
    "x = np.random.random((3,3))\n",
    "x"
   ]
  },
  {
   "cell_type": "code",
   "execution_count": 140,
   "id": "35f9b422",
   "metadata": {},
   "outputs": [
    {
     "data": {
      "text/plain": [
       "array([[[0.62482417, 0.01987534, 0.35129051],\n",
       "        [0.41854621, 0.22281413, 0.3778957 ],\n",
       "        [0.31209452, 0.62202629, 0.95448871]],\n",
       "\n",
       "       [[0.37278897, 0.94552018, 0.40074122],\n",
       "        [0.51210853, 0.17655258, 0.18007912],\n",
       "        [0.98798315, 0.63489484, 0.21800051]]])"
      ]
     },
     "execution_count": 140,
     "metadata": {},
     "output_type": "execute_result"
    }
   ],
   "source": [
    "x = np.random.random((2,3,3))\n",
    "x"
   ]
  },
  {
   "cell_type": "code",
   "execution_count": 144,
   "id": "9f002d78",
   "metadata": {},
   "outputs": [
    {
     "data": {
      "text/plain": [
       "28"
      ]
     },
     "execution_count": 144,
     "metadata": {},
     "output_type": "execute_result"
    }
   ],
   "source": [
    "x = np.random.randint(100)\n",
    "x"
   ]
  },
  {
   "cell_type": "code",
   "execution_count": 150,
   "id": "a0dce15f",
   "metadata": {},
   "outputs": [
    {
     "data": {
      "text/plain": [
       "array([ 2, 67, 40, 43, 11, 54, 99])"
      ]
     },
     "execution_count": 150,
     "metadata": {},
     "output_type": "execute_result"
    }
   ],
   "source": [
    "x = np.random.randint(100,size=7)\n",
    "x"
   ]
  },
  {
   "cell_type": "code",
   "execution_count": 153,
   "id": "b08bb7d8",
   "metadata": {},
   "outputs": [
    {
     "data": {
      "text/plain": [
       "array([[36, 27, 47, 70, 20, 56, 41],\n",
       "       [55, 29, 76, 79, 69, 70,  5]])"
      ]
     },
     "execution_count": 153,
     "metadata": {},
     "output_type": "execute_result"
    }
   ],
   "source": [
    "x = np.random.randint(100,size=(2,7))\n",
    "x"
   ]
  },
  {
   "cell_type": "code",
   "execution_count": 152,
   "id": "8bf3f5d3",
   "metadata": {},
   "outputs": [
    {
     "data": {
      "text/plain": [
       "array([0.85005322, 0.857912  , 0.76235286, 0.20162617, 0.73710039])"
      ]
     },
     "execution_count": 152,
     "metadata": {},
     "output_type": "execute_result"
    }
   ],
   "source": [
    "x = np.random.rand(5)\n",
    "x"
   ]
  },
  {
   "cell_type": "code",
   "execution_count": 155,
   "id": "de30474e",
   "metadata": {},
   "outputs": [
    {
     "data": {
      "text/plain": [
       "array([[0.48861187, 0.02289334, 0.91530572],\n",
       "       [0.41860376, 0.12029362, 0.75646837],\n",
       "       [0.01335735, 0.75120682, 0.85449782],\n",
       "       [0.41295425, 0.8437996 , 0.20292534],\n",
       "       [0.96006177, 0.9774202 , 0.49135306]])"
      ]
     },
     "execution_count": 155,
     "metadata": {},
     "output_type": "execute_result"
    }
   ],
   "source": [
    "x = np.random.rand(5,3)\n",
    "x"
   ]
  },
  {
   "cell_type": "code",
   "execution_count": 156,
   "id": "5d0adcbd",
   "metadata": {},
   "outputs": [
    {
     "data": {
      "text/plain": [
       "array([[[0.98244552, 0.66116764, 0.86826987],\n",
       "        [0.28447357, 0.96903142, 0.27324105]],\n",
       "\n",
       "       [[0.57525133, 0.88348297, 0.90919067],\n",
       "        [0.55310798, 0.66323132, 0.81765571]],\n",
       "\n",
       "       [[0.9739834 , 0.24461864, 0.84688969],\n",
       "        [0.29462413, 0.2479016 , 0.19134834]],\n",
       "\n",
       "       [[0.67933425, 0.6868792 , 0.79706022],\n",
       "        [0.09141577, 0.64332873, 0.7620089 ]],\n",
       "\n",
       "       [[0.06270309, 0.65176002, 0.07266048],\n",
       "        [0.16860461, 0.5505808 , 0.48147035]]])"
      ]
     },
     "execution_count": 156,
     "metadata": {},
     "output_type": "execute_result"
    }
   ],
   "source": [
    "x = np.random.rand(5,2,3)\n",
    "x"
   ]
  },
  {
   "cell_type": "markdown",
   "id": "b3af7016",
   "metadata": {},
   "source": [
    "### Unique items and counts"
   ]
  },
  {
   "cell_type": "code",
   "execution_count": 158,
   "id": "34e8145c",
   "metadata": {},
   "outputs": [
    {
     "data": {
      "text/plain": [
       "array([11, 12, 13, 14, 15, 16, 17, 18, 19, 20])"
      ]
     },
     "execution_count": 158,
     "metadata": {},
     "output_type": "execute_result"
    }
   ],
   "source": [
    "a = np.array([11, 11, 12, 13, 14, 15, 16, 17, 12, 13, 11, 14, 18, 19, 20])\n",
    "z = np.unique(a)\n",
    "z"
   ]
  },
  {
   "cell_type": "markdown",
   "id": "bd737db4",
   "metadata": {},
   "source": [
    "### Transposing a matrix"
   ]
  },
  {
   "cell_type": "code",
   "execution_count": 173,
   "id": "3d1ecf44",
   "metadata": {},
   "outputs": [
    {
     "data": {
      "text/plain": [
       "(3, 2)"
      ]
     },
     "execution_count": 173,
     "metadata": {},
     "output_type": "execute_result"
    }
   ],
   "source": [
    "# arr.transpose() or arr.T\n",
    "p = np.array([[55,11],[90,18],[14,95]])\n",
    "p.shape"
   ]
  },
  {
   "cell_type": "code",
   "execution_count": 174,
   "id": "926517d1",
   "metadata": {},
   "outputs": [
    {
     "data": {
      "text/plain": [
       "array([[55, 90, 14],\n",
       "       [11, 18, 95]])"
      ]
     },
     "execution_count": 174,
     "metadata": {},
     "output_type": "execute_result"
    }
   ],
   "source": [
    "tranpose_p =  p.transpose()\n",
    "tranpose_p"
   ]
  },
  {
   "cell_type": "code",
   "execution_count": 175,
   "id": "e3bf8929",
   "metadata": {},
   "outputs": [
    {
     "data": {
      "text/plain": [
       "(2, 3)"
      ]
     },
     "execution_count": 175,
     "metadata": {},
     "output_type": "execute_result"
    }
   ],
   "source": [
    "tranpose_p.shape"
   ]
  },
  {
   "cell_type": "markdown",
   "id": "79378283",
   "metadata": {},
   "source": [
    "### Reverse an array"
   ]
  },
  {
   "cell_type": "code",
   "execution_count": 178,
   "id": "a73bd913",
   "metadata": {},
   "outputs": [
    {
     "data": {
      "text/plain": [
       "array([8, 7, 6, 5, 4, 3, 2, 1])"
      ]
     },
     "execution_count": 178,
     "metadata": {},
     "output_type": "execute_result"
    }
   ],
   "source": [
    "# np.flip()\n",
    "# 1-dimensions\n",
    "arr1 = np.array([1, 2, 3, 4, 5, 6, 7, 8])\n",
    "rev_arr1 = np.flip(arr1)\n",
    "rev_arr1"
   ]
  },
  {
   "cell_type": "code",
   "execution_count": 179,
   "id": "b4a2f3f9",
   "metadata": {},
   "outputs": [
    {
     "data": {
      "text/plain": [
       "array([[12, 11, 10,  9],\n",
       "       [ 8,  7,  6,  5],\n",
       "       [ 4,  3,  2,  1]])"
      ]
     },
     "execution_count": 179,
     "metadata": {},
     "output_type": "execute_result"
    }
   ],
   "source": [
    "# 2-dimensions\n",
    "arr2  = np.array([[1, 2, 3, 4], [5, 6, 7, 8], [9, 10, 11, 12]])\n",
    "rev_arr2 = np.flip(arr2)\n",
    "rev_arr2"
   ]
  },
  {
   "cell_type": "code",
   "execution_count": 180,
   "id": "ba63d18f",
   "metadata": {},
   "outputs": [
    {
     "data": {
      "text/plain": [
       "array([[ 9, 10, 11, 12],\n",
       "       [ 5,  6,  7,  8],\n",
       "       [ 1,  2,  3,  4]])"
      ]
     },
     "execution_count": 180,
     "metadata": {},
     "output_type": "execute_result"
    }
   ],
   "source": [
    "reversed_arr_rows = np.flip(arr2, axis=0)\n",
    "reversed_arr_rows "
   ]
  },
  {
   "cell_type": "code",
   "execution_count": 181,
   "id": "8d8fd430",
   "metadata": {},
   "outputs": [
    {
     "data": {
      "text/plain": [
       "array([[ 4,  3,  2,  1],\n",
       "       [ 8,  7,  6,  5],\n",
       "       [12, 11, 10,  9]])"
      ]
     },
     "execution_count": 181,
     "metadata": {},
     "output_type": "execute_result"
    }
   ],
   "source": [
    "reversed_arr_cloumns = np.flip(arr2, axis=1)\n",
    "reversed_arr_cloumns"
   ]
  },
  {
   "cell_type": "markdown",
   "id": "9adbea5b",
   "metadata": {},
   "source": [
    "### Reshaping and flattening multidimensional arrays"
   ]
  },
  {
   "cell_type": "markdown",
   "id": "0795628d",
   "metadata": {},
   "source": [
    "flatten() : \n",
    "When you use flatten, changes to your new array won’t change the parent arra"
   ]
  },
  {
   "cell_type": "code",
   "execution_count": 192,
   "id": "c32292d4",
   "metadata": {},
   "outputs": [
    {
     "name": "stdout",
     "output_type": "stream",
     "text": [
      "x = \n",
      " [[ 1  2  3  4]\n",
      " [ 5  6  7  8]\n",
      " [ 9 10 11 12]] \n",
      "v = \n",
      " [99  2  3  4  5  6  7  8  9 10 11 12]\n"
     ]
    }
   ],
   "source": [
    "x = np.array([[1 , 2, 3, 4], [5, 6, 7, 8], [9, 10, 11, 12]])\n",
    "v = x.flatten()\n",
    "v[0] = 99\n",
    "print('x = \\n',x,'\\nv = \\n',v)"
   ]
  },
  {
   "cell_type": "markdown",
   "id": "3afc386c",
   "metadata": {},
   "source": [
    "ravel() : the changes you make to the new array will affect the parent array."
   ]
  },
  {
   "cell_type": "code",
   "execution_count": 193,
   "id": "38e61b54",
   "metadata": {},
   "outputs": [
    {
     "name": "stdout",
     "output_type": "stream",
     "text": [
      "x = \n",
      " [[99  2  3  4]\n",
      " [ 5  6  7  8]\n",
      " [ 9 10 11 12]] \n",
      "v = \n",
      " [99  2  3  4  5  6  7  8  9 10 11 12]\n"
     ]
    }
   ],
   "source": [
    "x = np.array([[1 , 2, 3, 4], [5, 6, 7, 8], [9, 10, 11, 12]])\n",
    "v = x.ravel()\n",
    "v[0] = 99\n",
    "print('x = \\n',x,'\\nv = \\n',v)"
   ]
  },
  {
   "cell_type": "markdown",
   "id": "c7a8c841",
   "metadata": {},
   "source": [
    "### More information"
   ]
  },
  {
   "cell_type": "code",
   "execution_count": 195,
   "id": "00b30a99",
   "metadata": {},
   "outputs": [
    {
     "name": "stdout",
     "output_type": "stream",
     "text": [
      "Help on built-in function max in module builtins:\n",
      "\n",
      "max(...)\n",
      "    max(iterable, *[, default=obj, key=func]) -> value\n",
      "    max(arg1, arg2, *args, *[, key=func]) -> value\n",
      "    \n",
      "    With a single iterable argument, return its biggest item. The\n",
      "    default keyword-only argument specifies an object to return if\n",
      "    the provided iterable is empty.\n",
      "    With two or more arguments, return the largest argument.\n",
      "\n"
     ]
    }
   ],
   "source": [
    "help(max)"
   ]
  },
  {
   "cell_type": "code",
   "execution_count": 197,
   "id": "8925ea02",
   "metadata": {},
   "outputs": [],
   "source": [
    "min?"
   ]
  },
  {
   "cell_type": "code",
   "execution_count": 198,
   "id": "be638be7",
   "metadata": {},
   "outputs": [],
   "source": [
    "x?"
   ]
  },
  {
   "cell_type": "code",
   "execution_count": 199,
   "id": "f96910c6",
   "metadata": {},
   "outputs": [],
   "source": [
    "min??"
   ]
  },
  {
   "cell_type": "markdown",
   "id": "b9d589bf",
   "metadata": {},
   "source": [
    "### Save and Load NumPy objects"
   ]
  },
  {
   "cell_type": "code",
   "execution_count": 200,
   "id": "c4094a9c",
   "metadata": {},
   "outputs": [],
   "source": [
    "# np.save\n",
    "a = np.array([1, 2, 3, 4, 5, 6])\n",
    "np.save('filename', a)"
   ]
  },
  {
   "cell_type": "code",
   "execution_count": 202,
   "id": "93df86d7",
   "metadata": {},
   "outputs": [
    {
     "data": {
      "text/plain": [
       "array([1, 2, 3, 4, 5, 6])"
      ]
     },
     "execution_count": 202,
     "metadata": {},
     "output_type": "execute_result"
    }
   ],
   "source": [
    "# np.load()\n",
    "b = np.load('filename.npy')\n",
    "b"
   ]
  },
  {
   "cell_type": "code",
   "execution_count": 203,
   "id": "d02d5fe1",
   "metadata": {},
   "outputs": [],
   "source": [
    "csv_arr = np.array([1, 2, 3, 4, 5, 6, 7, 8])"
   ]
  },
  {
   "cell_type": "code",
   "execution_count": 205,
   "id": "e515de62",
   "metadata": {},
   "outputs": [],
   "source": [
    "# np.savetx\n",
    "np.savetxt('new_file.csv', csv_arr)"
   ]
  },
  {
   "cell_type": "code",
   "execution_count": 206,
   "id": "dbb354da",
   "metadata": {},
   "outputs": [
    {
     "data": {
      "text/plain": [
       "array([1., 2., 3., 4., 5., 6., 7., 8.])"
      ]
     },
     "execution_count": 206,
     "metadata": {},
     "output_type": "execute_result"
    }
   ],
   "source": [
    "# np.loadtxt\n",
    "np.loadtxt('new_file.csv')"
   ]
  },
  {
   "cell_type": "markdown",
   "id": "4fc4bb6f",
   "metadata": {},
   "source": [
    "### Broadcasting"
   ]
  },
  {
   "cell_type": "markdown",
   "id": "01b6e5c0",
   "metadata": {},
   "source": [
    "\n",
    "operation between an array and a single number (also called an operation between a vector and a scalar) or between arrays of two different sizes."
   ]
  },
  {
   "cell_type": "code",
   "execution_count": 4,
   "id": "306abcdf",
   "metadata": {},
   "outputs": [
    {
     "data": {
      "text/plain": [
       "array([1.6, 3.2])"
      ]
     },
     "execution_count": 4,
     "metadata": {},
     "output_type": "execute_result"
    }
   ],
   "source": [
    "data = np.array([1.0, 2.0])\n",
    "data * 1.6"
   ]
  },
  {
   "cell_type": "code",
   "execution_count": 5,
   "id": "4ed38a5d",
   "metadata": {},
   "outputs": [
    {
     "data": {
      "text/plain": [
       "array([2., 4., 6.])"
      ]
     },
     "execution_count": 5,
     "metadata": {},
     "output_type": "execute_result"
    }
   ],
   "source": [
    "a = np.array([1.0, 2.0, 3.0])\n",
    "b = np.array([2.0, 2.0, 2.0])\n",
    "a*b"
   ]
  },
  {
   "cell_type": "markdown",
   "id": "c3050532",
   "metadata": {},
   "source": [
    "Broadcasting Rules:Two dimensions are compatible when they are equal, or one of them is 1."
   ]
  },
  {
   "cell_type": "raw",
   "id": "dd7a277a",
   "metadata": {},
   "source": [
    "Here are some more examples:\n",
    "\n",
    "A      (2d array):  5 x 4\n",
    "B      (1d array):      1\n",
    "Result (2d array):  5 x 4\n",
    "\n",
    "A      (2d array):  5 x 4\n",
    "B      (1d array):      4\n",
    "Result (2d array):  5 x 4\n",
    "\n",
    "A      (3d array):  15 x 3 x 5\n",
    "B      (3d array):  15 x 1 x 5\n",
    "Result (3d array):  15 x 3 x 5\n",
    "\n",
    "A      (3d array):  15 x 3 x 5\n",
    "B      (2d array):       3 x 5\n",
    "Result (3d array):  15 x 3 x 5\n",
    "\n",
    "A      (3d array):  15 x 3 x 5\n",
    "B      (2d array):       3 x 1\n",
    "Result (3d array):  15 x 3 x 5"
   ]
  },
  {
   "cell_type": "raw",
   "id": "5071b8ea",
   "metadata": {},
   "source": [
    "Here are examples of shapes that do not broadcast:\n",
    "\n",
    "A      (1d array):  3\n",
    "B      (1d array):  4 # trailing dimensions do not match\n",
    "\n",
    "A      (2d array):      2 x 1\n",
    "B      (3d array):  8 x 4 x 3 # second from last dimensions mismatched"
   ]
  },
  {
   "cell_type": "code",
   "execution_count": 6,
   "id": "d6706a68",
   "metadata": {},
   "outputs": [
    {
     "data": {
      "text/plain": [
       "array([[ 1.,  2.,  3.],\n",
       "       [11., 12., 13.],\n",
       "       [21., 22., 23.],\n",
       "       [31., 32., 33.]])"
      ]
     },
     "execution_count": 6,
     "metadata": {},
     "output_type": "execute_result"
    }
   ],
   "source": [
    "a = np.array([[ 0.0,  0.0,  0.0],\n",
    "              [10.0, 10.0, 10.0],\n",
    "              [20.0, 20.0, 20.0],\n",
    "              [30.0, 30.0, 30.0]])\n",
    "b = np.array([1.0, 2.0, 3.0])\n",
    "a+b"
   ]
  },
  {
   "cell_type": "markdown",
   "id": "4e3d652e",
   "metadata": {},
   "source": [
    "### Structured arrays"
   ]
  },
  {
   "cell_type": "markdown",
   "id": "68b86ed5",
   "metadata": {},
   "source": [
    "Structured arrays are ndarrays whose datatype is a composition of simpler datatypes organized as a sequence of named fields"
   ]
  },
  {
   "cell_type": "code",
   "execution_count": 7,
   "id": "de15c6ee",
   "metadata": {},
   "outputs": [
    {
     "data": {
      "text/plain": [
       "array([('Rex', 9, 81.), ('Fido', 3, 27.)],\n",
       "      dtype=[('name', '<U10'), ('age', '<i4'), ('weight', '<f4')])"
      ]
     },
     "execution_count": 7,
     "metadata": {},
     "output_type": "execute_result"
    }
   ],
   "source": [
    "x = np.array([('Rex', 9, 81.0), ('Fido', 3, 27.0)] , dtype=[('name', 'U10'), ('age', 'i4'), ('weight', 'f4')])\n",
    "x"
   ]
  },
  {
   "cell_type": "code",
   "execution_count": 8,
   "id": "fa16fba1",
   "metadata": {},
   "outputs": [
    {
     "data": {
      "text/plain": [
       "('Rex', 9, 81.)"
      ]
     },
     "execution_count": 8,
     "metadata": {},
     "output_type": "execute_result"
    }
   ],
   "source": [
    "x[0]"
   ]
  },
  {
   "cell_type": "code",
   "execution_count": 9,
   "id": "2f8cfdb9",
   "metadata": {},
   "outputs": [
    {
     "data": {
      "text/plain": [
       "('Fido', 3, 27.)"
      ]
     },
     "execution_count": 9,
     "metadata": {},
     "output_type": "execute_result"
    }
   ],
   "source": [
    "x[-1]"
   ]
  },
  {
   "cell_type": "code",
   "execution_count": 10,
   "id": "dd8aef29",
   "metadata": {},
   "outputs": [
    {
     "data": {
      "text/plain": [
       "array(['Rex', 'Fido'], dtype='<U10')"
      ]
     },
     "execution_count": 10,
     "metadata": {},
     "output_type": "execute_result"
    }
   ],
   "source": [
    "x['name']"
   ]
  },
  {
   "cell_type": "code",
   "execution_count": 11,
   "id": "e1daebf2",
   "metadata": {},
   "outputs": [
    {
     "data": {
      "text/plain": [
       "array([9, 3])"
      ]
     },
     "execution_count": 11,
     "metadata": {},
     "output_type": "execute_result"
    }
   ],
   "source": [
    "x['age']"
   ]
  },
  {
   "cell_type": "code",
   "execution_count": 12,
   "id": "bacbbac2",
   "metadata": {},
   "outputs": [
    {
     "data": {
      "text/plain": [
       "array([81., 27.], dtype=float32)"
      ]
     },
     "execution_count": 12,
     "metadata": {},
     "output_type": "execute_result"
    }
   ],
   "source": [
    "x['weight']"
   ]
  },
  {
   "cell_type": "code",
   "execution_count": 14,
   "id": "9fe6f352",
   "metadata": {},
   "outputs": [
    {
     "data": {
      "text/plain": [
       "'Rex'"
      ]
     },
     "execution_count": 14,
     "metadata": {},
     "output_type": "execute_result"
    }
   ],
   "source": [
    "x[0][0]"
   ]
  },
  {
   "cell_type": "code",
   "execution_count": 15,
   "id": "e537f85c",
   "metadata": {},
   "outputs": [
    {
     "data": {
      "text/plain": [
       "3"
      ]
     },
     "execution_count": 15,
     "metadata": {},
     "output_type": "execute_result"
    }
   ],
   "source": [
    "x[1][1]"
   ]
  },
  {
   "cell_type": "code",
   "execution_count": 19,
   "id": "48284b74",
   "metadata": {},
   "outputs": [
    {
     "data": {
      "text/plain": [
       "array([('Rex', 5, 81.), ('Fido', 5, 27.)],\n",
       "      dtype=[('name', '<U10'), ('age', '<i4'), ('weight', '<f4')])"
      ]
     },
     "execution_count": 19,
     "metadata": {},
     "output_type": "execute_result"
    }
   ],
   "source": [
    "x['age'] = 5\n",
    "x"
   ]
  },
  {
   "cell_type": "code",
   "execution_count": 21,
   "id": "6d797bf2",
   "metadata": {},
   "outputs": [
    {
     "data": {
      "text/plain": [
       "dtype([('name', '<U10'), ('age', '<i4'), ('weight', '<f4')])"
      ]
     },
     "execution_count": 21,
     "metadata": {},
     "output_type": "execute_result"
    }
   ],
   "source": [
    "x.dtype"
   ]
  },
  {
   "cell_type": "markdown",
   "id": "730b4d0f",
   "metadata": {},
   "source": [
    "### Record Arrays"
   ]
  },
  {
   "cell_type": "markdown",
   "id": "c89d72c6",
   "metadata": {},
   "source": [
    "allows access to fields of structured arrays by attribute instead of only by index. Record arrays use a special datatype,"
   ]
  },
  {
   "cell_type": "code",
   "execution_count": 22,
   "id": "0f6d9ffb",
   "metadata": {},
   "outputs": [
    {
     "data": {
      "text/plain": [
       "rec.array([(1, 2., b'Hello'), (2, 3., b'World')],\n",
       "          dtype=[('foo', '<i4'), ('bar', '<f4'), ('baz', 'S10')])"
      ]
     },
     "execution_count": 22,
     "metadata": {},
     "output_type": "execute_result"
    }
   ],
   "source": [
    "arr = np.rec.array([(1, 2., 'Hello'), (2, 3., \"World\")], dtype=[('foo', 'i4'),('bar', 'f4'), ('baz', 'S10')])\n",
    "arr"
   ]
  },
  {
   "cell_type": "code",
   "execution_count": 25,
   "id": "76359d7a",
   "metadata": {},
   "outputs": [
    {
     "data": {
      "text/plain": [
       "array([1, 2])"
      ]
     },
     "execution_count": 25,
     "metadata": {},
     "output_type": "execute_result"
    }
   ],
   "source": [
    "arr.foo"
   ]
  },
  {
   "cell_type": "code",
   "execution_count": 26,
   "id": "bb8c3ea5",
   "metadata": {},
   "outputs": [
    {
     "data": {
      "text/plain": [
       "array([2., 3.], dtype=float32)"
      ]
     },
     "execution_count": 26,
     "metadata": {},
     "output_type": "execute_result"
    }
   ],
   "source": [
    "arr.bar"
   ]
  },
  {
   "cell_type": "code",
   "execution_count": 27,
   "id": "f34df40a",
   "metadata": {},
   "outputs": [
    {
     "data": {
      "text/plain": [
       "array([b'Hello', b'World'], dtype='|S10')"
      ]
     },
     "execution_count": 27,
     "metadata": {},
     "output_type": "execute_result"
    }
   ],
   "source": [
    "arr.baz"
   ]
  },
  {
   "cell_type": "code",
   "execution_count": 38,
   "id": "b4ceeca8",
   "metadata": {},
   "outputs": [
    {
     "data": {
      "text/plain": [
       "array([[ 1,  2,  3,  4],\n",
       "       [ 5,  6,  7,  8],\n",
       "       [ 9, 10, 11, 12]])"
      ]
     },
     "execution_count": 38,
     "metadata": {},
     "output_type": "execute_result"
    }
   ],
   "source": [
    "## numpy.delete\n",
    "## Return a new array with sub-arrays along an axis deleted.\n",
    "xinput = np.array([[1,2,3,4], [5,6,7,8], [9,10,11,12]])\n",
    "xinput\n"
   ]
  },
  {
   "cell_type": "code",
   "execution_count": 40,
   "id": "24e56d88",
   "metadata": {},
   "outputs": [
    {
     "data": {
      "text/plain": [
       "array([[ 1,  2,  3,  4],\n",
       "       [ 9, 10, 11, 12]])"
      ]
     },
     "execution_count": 40,
     "metadata": {},
     "output_type": "execute_result"
    }
   ],
   "source": [
    "yinput = np.delete(xinput, 1, 0)\n",
    "yinput"
   ]
  },
  {
   "cell_type": "code",
   "execution_count": 44,
   "id": "8a456a95",
   "metadata": {},
   "outputs": [
    {
     "data": {
      "text/plain": [
       "array([[1, 1],\n",
       "       [2, 2],\n",
       "       [3, 3]])"
      ]
     },
     "execution_count": 44,
     "metadata": {},
     "output_type": "execute_result"
    }
   ],
   "source": [
    "## numpy.insert\n",
    "## Insert values along the given axis before the given indices\n",
    "a = np.array([[1, 1], [2, 2], [3, 3]])\n",
    "a"
   ]
  },
  {
   "cell_type": "code",
   "execution_count": 42,
   "id": "195379f4",
   "metadata": {},
   "outputs": [
    {
     "data": {
      "text/plain": [
       "array([1, 5, 1, 2, 2, 3, 3])"
      ]
     },
     "execution_count": 42,
     "metadata": {},
     "output_type": "execute_result"
    }
   ],
   "source": [
    "b = np.insert(a, 1, 5)\n",
    "b"
   ]
  },
  {
   "cell_type": "code",
   "execution_count": 46,
   "id": "b8f39736",
   "metadata": {},
   "outputs": [
    {
     "data": {
      "text/plain": [
       "array([10,  1, 10,  1,  2,  2,  3,  3])"
      ]
     },
     "execution_count": 46,
     "metadata": {},
     "output_type": "execute_result"
    }
   ],
   "source": [
    "b = np.insert(a, (1,0), 10)\n",
    "b"
   ]
  },
  {
   "cell_type": "code",
   "execution_count": 47,
   "id": "755ed29b",
   "metadata": {},
   "outputs": [
    {
     "data": {
      "text/plain": [
       "array([1, 2, 3, 4, 5, 6, 7, 8, 9])"
      ]
     },
     "execution_count": 47,
     "metadata": {},
     "output_type": "execute_result"
    }
   ],
   "source": [
    "## numpy.append\n",
    "## Append values to the end of an array.\n",
    "z = np.append([1, 2, 3], [[4, 5, 6], [7, 8, 9]])\n",
    "z"
   ]
  },
  {
   "cell_type": "code",
   "execution_count": 55,
   "id": "fb70eec6",
   "metadata": {},
   "outputs": [
    {
     "data": {
      "text/plain": [
       "array([[ 0,  1,  2],\n",
       "       [ 3,  4,  5],\n",
       "       [ 6,  7,  8],\n",
       "       [ 9, 10, 11]])"
      ]
     },
     "execution_count": 55,
     "metadata": {},
     "output_type": "execute_result"
    }
   ],
   "source": [
    "a =  np.arange(12).reshape((4,3))\n",
    "a"
   ]
  },
  {
   "cell_type": "code",
   "execution_count": 56,
   "id": "a4a9ac7e",
   "metadata": {},
   "outputs": [
    {
     "data": {
      "text/plain": [
       "array([[31,  1, 11],\n",
       "       [ 5, 14,  7],\n",
       "       [10, 93, 99],\n",
       "       [72, 83, 40]])"
      ]
     },
     "execution_count": 56,
     "metadata": {},
     "output_type": "execute_result"
    }
   ],
   "source": [
    "b = np.array([[31,1,11],[5,14,7],[10,93,99],[72, 83, 40]])\n",
    "b"
   ]
  },
  {
   "cell_type": "code",
   "execution_count": 58,
   "id": "e8377599",
   "metadata": {},
   "outputs": [
    {
     "data": {
      "text/plain": [
       "array([[ 0,  1,  2,  3,  4,  5],\n",
       "       [ 6,  7,  8,  9, 10, 11],\n",
       "       [31,  1, 11,  5, 14,  7],\n",
       "       [10, 93, 99, 72, 83, 40]])"
      ]
     },
     "execution_count": 58,
     "metadata": {},
     "output_type": "execute_result"
    }
   ],
   "source": [
    "z = np.append(a,b).reshape(4,6)\n",
    "z"
   ]
  },
  {
   "cell_type": "code",
   "execution_count": null,
   "id": "49d0b9b0",
   "metadata": {},
   "outputs": [],
   "source": []
  }
 ],
 "metadata": {
  "kernelspec": {
   "display_name": "Python 3 (ipykernel)",
   "language": "python",
   "name": "python3"
  },
  "language_info": {
   "codemirror_mode": {
    "name": "ipython",
    "version": 3
   },
   "file_extension": ".py",
   "mimetype": "text/x-python",
   "name": "python",
   "nbconvert_exporter": "python",
   "pygments_lexer": "ipython3",
   "version": "3.9.13"
  }
 },
 "nbformat": 4,
 "nbformat_minor": 5
}
