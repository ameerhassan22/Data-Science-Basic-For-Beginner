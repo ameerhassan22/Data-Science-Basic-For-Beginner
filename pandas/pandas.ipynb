{
 "cells": [
  {
   "cell_type": "markdown",
   "id": "27270aea",
   "metadata": {},
   "source": [
    "# Pandas Library"
   ]
  },
  {
   "cell_type": "markdown",
   "id": "5f3da16d",
   "metadata": {},
   "source": [
    "pandas is a Python package providing fast, flexible, and expressive data structures designed to make working with “relational” or “labeled” data both easy and intuitive. It aims to be the fundamental high-level building block for doing practical, real-world data analysis in Python."
   ]
  },
  {
   "cell_type": "markdown",
   "id": "f54f08ee",
   "metadata": {},
   "source": [
    "### Install Pandas"
   ]
  },
  {
   "cell_type": "markdown",
   "id": "33a92175",
   "metadata": {},
   "source": [
    "If you already have Python, you can install Pandas with:\n",
    "\n",
    "conda install pandas or pip install pandas"
   ]
  },
  {
   "cell_type": "markdown",
   "id": "b6b58746",
   "metadata": {},
   "source": [
    "### Import Pandas"
   ]
  },
  {
   "cell_type": "code",
   "execution_count": 1,
   "id": "712db3e7",
   "metadata": {},
   "outputs": [
    {
     "name": "stdout",
     "output_type": "stream",
     "text": [
      "1.4.4\n"
     ]
    }
   ],
   "source": [
    "import pandas as pd\n",
    "import numpy as np\n",
    "print(pd.__version__)"
   ]
  },
  {
   "cell_type": "markdown",
   "id": "3c899640",
   "metadata": {},
   "source": [
    "### Series"
   ]
  },
  {
   "cell_type": "markdown",
   "id": "9271438b",
   "metadata": {},
   "source": [
    "one-dimensional labeled array capable of holding any data type (integers, strings, floating point numbers,\n",
    "Python objects, etc.). The axis labels are collectively referred to as the index."
   ]
  },
  {
   "cell_type": "code",
   "execution_count": 2,
   "id": "2317ec0e",
   "metadata": {},
   "outputs": [
    {
     "data": {
      "text/plain": [
       "a    1.282648\n",
       "b   -1.025492\n",
       "c    0.605611\n",
       "d    2.213093\n",
       "e   -0.507672\n",
       "Name: elment-in-series, dtype: float64"
      ]
     },
     "execution_count": 2,
     "metadata": {},
     "output_type": "execute_result"
    }
   ],
   "source": [
    "## Create Series from numpy Library\n",
    "series_1 = pd.Series(np.random.randn(5), index=['a', 'b', 'c', 'd', 'e'],name='elment-in-series')\n",
    "series_1"
   ]
  },
  {
   "cell_type": "code",
   "execution_count": 3,
   "id": "8e5823a8",
   "metadata": {},
   "outputs": [
    {
     "data": {
      "text/plain": [
       "a    1.282648\n",
       "b   -1.025492\n",
       "c    0.605611\n",
       "d    2.213093\n",
       "e   -0.507672\n",
       "Name: example_1, dtype: float64"
      ]
     },
     "execution_count": 3,
     "metadata": {},
     "output_type": "execute_result"
    }
   ],
   "source": [
    "series_1.rename('example_1')"
   ]
  },
  {
   "cell_type": "code",
   "execution_count": 4,
   "id": "3d5e5fea",
   "metadata": {},
   "outputs": [
    {
     "data": {
      "text/plain": [
       "'elment-in-series'"
      ]
     },
     "execution_count": 4,
     "metadata": {},
     "output_type": "execute_result"
    }
   ],
   "source": [
    "series_1.name"
   ]
  },
  {
   "cell_type": "code",
   "execution_count": 5,
   "id": "94a6526a",
   "metadata": {},
   "outputs": [
    {
     "data": {
      "text/plain": [
       "Index(['a', 'b', 'c', 'd', 'e'], dtype='object')"
      ]
     },
     "execution_count": 5,
     "metadata": {},
     "output_type": "execute_result"
    }
   ],
   "source": [
    "series_1.index"
   ]
  },
  {
   "cell_type": "code",
   "execution_count": 6,
   "id": "568878b2",
   "metadata": {},
   "outputs": [
    {
     "data": {
      "text/plain": [
       "array([ 1.28264803, -1.02549208,  0.60561079,  2.21309257, -0.50767156])"
      ]
     },
     "execution_count": 6,
     "metadata": {},
     "output_type": "execute_result"
    }
   ],
   "source": [
    "series_1.values"
   ]
  },
  {
   "cell_type": "code",
   "execution_count": 7,
   "id": "bad9a9ee",
   "metadata": {},
   "outputs": [
    {
     "data": {
      "text/plain": [
       "A    19\n",
       "B     4\n",
       "C     5\n",
       "D     6\n",
       "dtype: int32"
      ]
     },
     "execution_count": 7,
     "metadata": {},
     "output_type": "execute_result"
    }
   ],
   "source": [
    "## Create Series by numpy Library and list\n",
    "series_2 = pd.Series(np.array([19,4,5,6]),index=['A','B','C','D'])\n",
    "series_2"
   ]
  },
  {
   "cell_type": "code",
   "execution_count": 8,
   "id": "03a428b8",
   "metadata": {},
   "outputs": [
    {
     "data": {
      "text/plain": [
       "a    1\n",
       "b    2\n",
       "c    3\n",
       "dtype: int64"
      ]
     },
     "execution_count": 8,
     "metadata": {},
     "output_type": "execute_result"
    }
   ],
   "source": [
    "## Create Series from Python dictionary  without index\n",
    "d = {'a': 1, 'b': 2, 'c': 3}\n",
    "series_3 = pd.Series(data=d)\n",
    "series_3"
   ]
  },
  {
   "cell_type": "code",
   "execution_count": 9,
   "id": "c36313b9",
   "metadata": {},
   "outputs": [
    {
     "data": {
      "text/plain": [
       "a    7\n",
       "b    0\n",
       "c    9\n",
       "dtype: int64"
      ]
     },
     "execution_count": 9,
     "metadata": {},
     "output_type": "execute_result"
    }
   ],
   "source": [
    "## Create Series from Python dictionary  with index\n",
    "d = {'a': 7, 'b': 0, 'c': 9}\n",
    "series_4 = pd.Series(data=d,index=['a', 'b', 'c'])\n",
    "series_4\n"
   ]
  },
  {
   "cell_type": "code",
   "execution_count": 10,
   "id": "62f019b7",
   "metadata": {},
   "outputs": [
    {
     "data": {
      "text/plain": [
       "x   NaN\n",
       "y   NaN\n",
       "z   NaN\n",
       "dtype: float64"
      ]
     },
     "execution_count": 10,
     "metadata": {},
     "output_type": "execute_result"
    }
   ],
   "source": [
    "t = {'a': 17, 'b': 10, 'c': 11}\n",
    "series_5 = pd.Series(data=t,index=['x', 'y', 'z'])\n",
    "series_5"
   ]
  },
  {
   "cell_type": "code",
   "execution_count": 11,
   "id": "1916fc0a",
   "metadata": {},
   "outputs": [
    {
     "data": {
      "text/plain": [
       "a    5.0\n",
       "b    5.0\n",
       "c    5.0\n",
       "d    5.0\n",
       "e    5.0\n",
       "dtype: float64"
      ]
     },
     "execution_count": 11,
     "metadata": {},
     "output_type": "execute_result"
    }
   ],
   "source": [
    "## Create series from scalar\n",
    "series_6 = pd.Series(5., index=['a', 'b', 'c', 'd', 'e'])\n",
    "series_6"
   ]
  },
  {
   "cell_type": "code",
   "execution_count": 12,
   "id": "5e13ce79",
   "metadata": {},
   "outputs": [
    {
     "data": {
      "text/plain": [
       "a     5.0\n",
       "b     5.0\n",
       "c     5.0\n",
       "d     5.0\n",
       "e     5.0\n",
       "f    77.8\n",
       "dtype: float64"
      ]
     },
     "execution_count": 12,
     "metadata": {},
     "output_type": "execute_result"
    }
   ],
   "source": [
    "# insert element to Series\n",
    "series_6['f']=77.8\n",
    "series_6"
   ]
  },
  {
   "cell_type": "code",
   "execution_count": 13,
   "id": "dd852190",
   "metadata": {},
   "outputs": [
    {
     "data": {
      "text/plain": [
       "dtype('float64')"
      ]
     },
     "execution_count": 13,
     "metadata": {},
     "output_type": "execute_result"
    }
   ],
   "source": [
    "series_1.dtype"
   ]
  },
  {
   "cell_type": "code",
   "execution_count": 14,
   "id": "8390a550",
   "metadata": {},
   "outputs": [
    {
     "data": {
      "text/plain": [
       "(5,)"
      ]
     },
     "execution_count": 14,
     "metadata": {},
     "output_type": "execute_result"
    }
   ],
   "source": [
    "series_1.shape"
   ]
  },
  {
   "cell_type": "code",
   "execution_count": 15,
   "id": "ddbfd1be",
   "metadata": {},
   "outputs": [
    {
     "data": {
      "text/plain": [
       "2.213092567303275"
      ]
     },
     "execution_count": 15,
     "metadata": {},
     "output_type": "execute_result"
    }
   ],
   "source": [
    "series_1.max()"
   ]
  },
  {
   "cell_type": "code",
   "execution_count": 16,
   "id": "a7611d8c",
   "metadata": {},
   "outputs": [
    {
     "data": {
      "text/plain": [
       "-1.0254920760878363"
      ]
     },
     "execution_count": 16,
     "metadata": {},
     "output_type": "execute_result"
    }
   ],
   "source": [
    "series_1.min()"
   ]
  },
  {
   "cell_type": "code",
   "execution_count": 17,
   "id": "6489d6ea",
   "metadata": {},
   "outputs": [
    {
     "data": {
      "text/plain": [
       "0.5136375486894365"
      ]
     },
     "execution_count": 17,
     "metadata": {},
     "output_type": "execute_result"
    }
   ],
   "source": [
    "series_1.mean()"
   ]
  },
  {
   "cell_type": "code",
   "execution_count": 18,
   "id": "3cc33e98",
   "metadata": {},
   "outputs": [
    {
     "data": {
      "text/plain": [
       "a    1.282648\n",
       "b    1.025492\n",
       "c    0.605611\n",
       "d    2.213093\n",
       "e    0.507672\n",
       "Name: elment-in-series, dtype: float64"
      ]
     },
     "execution_count": 18,
     "metadata": {},
     "output_type": "execute_result"
    }
   ],
   "source": [
    "series_1.abs()"
   ]
  },
  {
   "cell_type": "code",
   "execution_count": 19,
   "id": "9f7d566a",
   "metadata": {},
   "outputs": [
    {
     "data": {
      "text/plain": [
       "<bound method IndexOpsMixin.transpose of a    1.282648\n",
       "b   -1.025492\n",
       "c    0.605611\n",
       "d    2.213093\n",
       "e   -0.507672\n",
       "Name: elment-in-series, dtype: float64>"
      ]
     },
     "execution_count": 19,
     "metadata": {},
     "output_type": "execute_result"
    }
   ],
   "source": [
    "series_1.transpose"
   ]
  },
  {
   "cell_type": "code",
   "execution_count": 20,
   "id": "8958f8df",
   "metadata": {},
   "outputs": [
    {
     "data": {
      "text/plain": [
       "1"
      ]
     },
     "execution_count": 20,
     "metadata": {},
     "output_type": "execute_result"
    }
   ],
   "source": [
    "series_1.ndim"
   ]
  },
  {
   "cell_type": "code",
   "execution_count": 21,
   "id": "16c3e495",
   "metadata": {},
   "outputs": [
    {
     "data": {
      "text/plain": [
       "array([ 1.28264803, -1.02549208,  0.60561079,  2.21309257, -0.50767156])"
      ]
     },
     "execution_count": 21,
     "metadata": {},
     "output_type": "execute_result"
    }
   ],
   "source": [
    "series_1.unique()"
   ]
  },
  {
   "cell_type": "code",
   "execution_count": 22,
   "id": "bcf0ca00",
   "metadata": {},
   "outputs": [
    {
     "data": {
      "text/plain": [
       "<bound method Series.unique of a    1.282648\n",
       "b   -1.025492\n",
       "c    0.605611\n",
       "d    2.213093\n",
       "e   -0.507672\n",
       "Name: elment-in-series, dtype: float64>"
      ]
     },
     "execution_count": 22,
     "metadata": {},
     "output_type": "execute_result"
    }
   ],
   "source": [
    "series_1.unique"
   ]
  },
  {
   "cell_type": "code",
   "execution_count": 23,
   "id": "fd5441ae",
   "metadata": {},
   "outputs": [
    {
     "data": {
      "text/plain": [
       "<PandasArray>\n",
       "[ 1.2826480277517525, -1.0254920760878363,  0.6056107850410716,\n",
       "   2.213092567303275,  -0.507671560561081]\n",
       "Length: 5, dtype: float64"
      ]
     },
     "execution_count": 23,
     "metadata": {},
     "output_type": "execute_result"
    }
   ],
   "source": [
    "series_1.array"
   ]
  },
  {
   "cell_type": "code",
   "execution_count": 24,
   "id": "642e3389",
   "metadata": {},
   "outputs": [
    {
     "data": {
      "text/plain": [
       "-1.0254920760878363"
      ]
     },
     "execution_count": 24,
     "metadata": {},
     "output_type": "execute_result"
    }
   ],
   "source": [
    "## Accesss to element\n",
    "series_1.get('b')"
   ]
  },
  {
   "cell_type": "code",
   "execution_count": 25,
   "id": "4445604a",
   "metadata": {},
   "outputs": [
    {
     "data": {
      "text/plain": [
       "a    1.282648\n",
       "Name: elment-in-series, dtype: float64"
      ]
     },
     "execution_count": 25,
     "metadata": {},
     "output_type": "execute_result"
    }
   ],
   "source": [
    "series_1.head(1)"
   ]
  },
  {
   "cell_type": "code",
   "execution_count": 26,
   "id": "834d7835",
   "metadata": {},
   "outputs": [
    {
     "data": {
      "text/plain": [
       "e   -0.507672\n",
       "Name: elment-in-series, dtype: float64"
      ]
     },
     "execution_count": 26,
     "metadata": {},
     "output_type": "execute_result"
    }
   ],
   "source": [
    "series_1.tail(1)"
   ]
  },
  {
   "cell_type": "code",
   "execution_count": 27,
   "id": "293627b0",
   "metadata": {},
   "outputs": [
    {
     "data": {
      "text/plain": [
       "b   -1.025492\n",
       "c    0.605611\n",
       "d    2.213093\n",
       "e   -0.507672\n",
       "Name: elment-in-series, dtype: float64"
      ]
     },
     "execution_count": 27,
     "metadata": {},
     "output_type": "execute_result"
    }
   ],
   "source": [
    "## delete element in Series\n",
    "del series_1['a']\n",
    "series_1"
   ]
  },
  {
   "cell_type": "markdown",
   "id": "dafd1a66",
   "metadata": {},
   "source": [
    "### DataFrame"
   ]
  },
  {
   "cell_type": "markdown",
   "id": "5c93e026",
   "metadata": {},
   "source": [
    "2-dimensional labeled data structure with columns of potentially different types"
   ]
  },
  {
   "cell_type": "code",
   "execution_count": 28,
   "id": "cf700b36",
   "metadata": {},
   "outputs": [
    {
     "data": {
      "text/html": [
       "<div>\n",
       "<style scoped>\n",
       "    .dataframe tbody tr th:only-of-type {\n",
       "        vertical-align: middle;\n",
       "    }\n",
       "\n",
       "    .dataframe tbody tr th {\n",
       "        vertical-align: top;\n",
       "    }\n",
       "\n",
       "    .dataframe thead th {\n",
       "        text-align: right;\n",
       "    }\n",
       "</style>\n",
       "<table border=\"1\" class=\"dataframe\">\n",
       "  <thead>\n",
       "    <tr style=\"text-align: right;\">\n",
       "      <th></th>\n",
       "      <th>one</th>\n",
       "      <th>two</th>\n",
       "      <th>Three</th>\n",
       "    </tr>\n",
       "  </thead>\n",
       "  <tbody>\n",
       "    <tr>\n",
       "      <th>0</th>\n",
       "      <td>6.0</td>\n",
       "      <td>14.0</td>\n",
       "      <td>9.9</td>\n",
       "    </tr>\n",
       "    <tr>\n",
       "      <th>1</th>\n",
       "      <td>2.0</td>\n",
       "      <td>11.0</td>\n",
       "      <td>7.2</td>\n",
       "    </tr>\n",
       "    <tr>\n",
       "      <th>2</th>\n",
       "      <td>7.0</td>\n",
       "      <td>23.0</td>\n",
       "      <td>5.0</td>\n",
       "    </tr>\n",
       "    <tr>\n",
       "      <th>3</th>\n",
       "      <td>4.0</td>\n",
       "      <td>21.0</td>\n",
       "      <td>8.0</td>\n",
       "    </tr>\n",
       "  </tbody>\n",
       "</table>\n",
       "</div>"
      ],
      "text/plain": [
       "   one   two  Three\n",
       "0  6.0  14.0    9.9\n",
       "1  2.0  11.0    7.2\n",
       "2  7.0  23.0    5.0\n",
       "3  4.0  21.0    8.0"
      ]
     },
     "execution_count": 28,
     "metadata": {},
     "output_type": "execute_result"
    }
   ],
   "source": [
    "## Create DataFrame from Python dictionary  without index\n",
    "d = {\"one\": [6.0, 2.0, 7.0, 4.0], \"two\": [14.0, 11.0, 23.0, 21.0] ,\"Three\":[9.9,7.2,5.,8.]}\n",
    "dataframe_1 = pd.DataFrame(d)\n",
    "dataframe_1\n"
   ]
  },
  {
   "cell_type": "code",
   "execution_count": 29,
   "id": "51c79b04",
   "metadata": {},
   "outputs": [
    {
     "data": {
      "text/html": [
       "<div>\n",
       "<style scoped>\n",
       "    .dataframe tbody tr th:only-of-type {\n",
       "        vertical-align: middle;\n",
       "    }\n",
       "\n",
       "    .dataframe tbody tr th {\n",
       "        vertical-align: top;\n",
       "    }\n",
       "\n",
       "    .dataframe thead th {\n",
       "        text-align: right;\n",
       "    }\n",
       "</style>\n",
       "<table border=\"1\" class=\"dataframe\">\n",
       "  <thead>\n",
       "    <tr style=\"text-align: right;\">\n",
       "      <th></th>\n",
       "      <th>one</th>\n",
       "      <th>two</th>\n",
       "      <th>Three</th>\n",
       "    </tr>\n",
       "  </thead>\n",
       "  <tbody>\n",
       "    <tr>\n",
       "      <th>1</th>\n",
       "      <td>6.0</td>\n",
       "      <td>34.0</td>\n",
       "      <td>9.9</td>\n",
       "    </tr>\n",
       "    <tr>\n",
       "      <th>2</th>\n",
       "      <td>32.0</td>\n",
       "      <td>19.0</td>\n",
       "      <td>17.2</td>\n",
       "    </tr>\n",
       "    <tr>\n",
       "      <th>3</th>\n",
       "      <td>7.0</td>\n",
       "      <td>23.0</td>\n",
       "      <td>5.0</td>\n",
       "    </tr>\n",
       "    <tr>\n",
       "      <th>4</th>\n",
       "      <td>42.0</td>\n",
       "      <td>21.0</td>\n",
       "      <td>81.0</td>\n",
       "    </tr>\n",
       "  </tbody>\n",
       "</table>\n",
       "</div>"
      ],
      "text/plain": [
       "    one   two  Three\n",
       "1   6.0  34.0    9.9\n",
       "2  32.0  19.0   17.2\n",
       "3   7.0  23.0    5.0\n",
       "4  42.0  21.0   81.0"
      ]
     },
     "execution_count": 29,
     "metadata": {},
     "output_type": "execute_result"
    }
   ],
   "source": [
    "## Create DataFrame from Python dictionary  with index\n",
    "d = {\"one\": [6.0, 32.0, 7.0, 42.0], \"two\": [34.0, 19.0, 23.0, 21.0] ,\"Three\":[9.9,17.2,5.,81.]}\n",
    "dataframe_2 = pd.DataFrame(d,index=[1,2,3,4])\n",
    "dataframe_2"
   ]
  },
  {
   "cell_type": "code",
   "execution_count": 30,
   "id": "c2be588b",
   "metadata": {},
   "outputs": [
    {
     "data": {
      "text/html": [
       "<div>\n",
       "<style scoped>\n",
       "    .dataframe tbody tr th:only-of-type {\n",
       "        vertical-align: middle;\n",
       "    }\n",
       "\n",
       "    .dataframe tbody tr th {\n",
       "        vertical-align: top;\n",
       "    }\n",
       "\n",
       "    .dataframe thead th {\n",
       "        text-align: right;\n",
       "    }\n",
       "</style>\n",
       "<table border=\"1\" class=\"dataframe\">\n",
       "  <thead>\n",
       "    <tr style=\"text-align: right;\">\n",
       "      <th></th>\n",
       "      <th>A</th>\n",
       "      <th>B</th>\n",
       "      <th>C</th>\n",
       "    </tr>\n",
       "  </thead>\n",
       "  <tbody>\n",
       "    <tr>\n",
       "      <th>0</th>\n",
       "      <td>1</td>\n",
       "      <td>2.0</td>\n",
       "      <td>b'Hello'</td>\n",
       "    </tr>\n",
       "    <tr>\n",
       "      <th>1</th>\n",
       "      <td>2</td>\n",
       "      <td>3.0</td>\n",
       "      <td>b'World'</td>\n",
       "    </tr>\n",
       "  </tbody>\n",
       "</table>\n",
       "</div>"
      ],
      "text/plain": [
       "   A    B         C\n",
       "0  1  2.0  b'Hello'\n",
       "1  2  3.0  b'World'"
      ]
     },
     "execution_count": 30,
     "metadata": {},
     "output_type": "execute_result"
    }
   ],
   "source": [
    "## Create DataFrame from structured array \n",
    "data = np.zeros((2,), dtype=[(\"A\", \"i4\"), (\"B\", \"f4\"), (\"C\", \"a10\")])\n",
    "data[:] = [(1, 2.0, \"Hello\"), (2, 3.0, \"World\")]\n",
    "dataframe_3 = pd.DataFrame(data)\n",
    "dataframe_3"
   ]
  },
  {
   "cell_type": "code",
   "execution_count": 31,
   "id": "ebb7c71d",
   "metadata": {},
   "outputs": [
    {
     "data": {
      "text/html": [
       "<div>\n",
       "<style scoped>\n",
       "    .dataframe tbody tr th:only-of-type {\n",
       "        vertical-align: middle;\n",
       "    }\n",
       "\n",
       "    .dataframe tbody tr th {\n",
       "        vertical-align: top;\n",
       "    }\n",
       "\n",
       "    .dataframe thead th {\n",
       "        text-align: right;\n",
       "    }\n",
       "</style>\n",
       "<table border=\"1\" class=\"dataframe\">\n",
       "  <thead>\n",
       "    <tr style=\"text-align: right;\">\n",
       "      <th></th>\n",
       "      <th>A</th>\n",
       "      <th>B</th>\n",
       "      <th>C</th>\n",
       "    </tr>\n",
       "  </thead>\n",
       "  <tbody>\n",
       "    <tr>\n",
       "      <th>first</th>\n",
       "      <td>1</td>\n",
       "      <td>2.0</td>\n",
       "      <td>b'Hello'</td>\n",
       "    </tr>\n",
       "    <tr>\n",
       "      <th>second</th>\n",
       "      <td>2</td>\n",
       "      <td>3.0</td>\n",
       "      <td>b'World'</td>\n",
       "    </tr>\n",
       "  </tbody>\n",
       "</table>\n",
       "</div>"
      ],
      "text/plain": [
       "        A    B         C\n",
       "first   1  2.0  b'Hello'\n",
       "second  2  3.0  b'World'"
      ]
     },
     "execution_count": 31,
     "metadata": {},
     "output_type": "execute_result"
    }
   ],
   "source": [
    "dataframe_4 = pd.DataFrame(data, index=[\"first\", \"second\"])\n",
    "dataframe_4"
   ]
  },
  {
   "cell_type": "code",
   "execution_count": 32,
   "id": "79f6236a",
   "metadata": {},
   "outputs": [
    {
     "data": {
      "text/html": [
       "<div>\n",
       "<style scoped>\n",
       "    .dataframe tbody tr th:only-of-type {\n",
       "        vertical-align: middle;\n",
       "    }\n",
       "\n",
       "    .dataframe tbody tr th {\n",
       "        vertical-align: top;\n",
       "    }\n",
       "\n",
       "    .dataframe thead th {\n",
       "        text-align: right;\n",
       "    }\n",
       "</style>\n",
       "<table border=\"1\" class=\"dataframe\">\n",
       "  <thead>\n",
       "    <tr style=\"text-align: right;\">\n",
       "      <th></th>\n",
       "      <th>C</th>\n",
       "      <th>A</th>\n",
       "      <th>B</th>\n",
       "    </tr>\n",
       "  </thead>\n",
       "  <tbody>\n",
       "    <tr>\n",
       "      <th>0</th>\n",
       "      <td>b'Hello'</td>\n",
       "      <td>1</td>\n",
       "      <td>2.0</td>\n",
       "    </tr>\n",
       "    <tr>\n",
       "      <th>1</th>\n",
       "      <td>b'World'</td>\n",
       "      <td>2</td>\n",
       "      <td>3.0</td>\n",
       "    </tr>\n",
       "  </tbody>\n",
       "</table>\n",
       "</div>"
      ],
      "text/plain": [
       "          C  A    B\n",
       "0  b'Hello'  1  2.0\n",
       "1  b'World'  2  3.0"
      ]
     },
     "execution_count": 32,
     "metadata": {},
     "output_type": "execute_result"
    }
   ],
   "source": [
    "dataframe_5 =pd.DataFrame(data, columns=[\"C\", \"A\", \"B\"])\n",
    "dataframe_5 "
   ]
  },
  {
   "cell_type": "code",
   "execution_count": 33,
   "id": "589bd59c",
   "metadata": {},
   "outputs": [
    {
     "data": {
      "text/html": [
       "<div>\n",
       "<style scoped>\n",
       "    .dataframe tbody tr th:only-of-type {\n",
       "        vertical-align: middle;\n",
       "    }\n",
       "\n",
       "    .dataframe tbody tr th {\n",
       "        vertical-align: top;\n",
       "    }\n",
       "\n",
       "    .dataframe thead tr th {\n",
       "        text-align: left;\n",
       "    }\n",
       "</style>\n",
       "<table border=\"1\" class=\"dataframe\">\n",
       "  <thead>\n",
       "    <tr>\n",
       "      <th></th>\n",
       "      <th></th>\n",
       "      <th colspan=\"3\" halign=\"left\">a</th>\n",
       "      <th colspan=\"2\" halign=\"left\">b</th>\n",
       "    </tr>\n",
       "    <tr>\n",
       "      <th></th>\n",
       "      <th></th>\n",
       "      <th>b</th>\n",
       "      <th>a</th>\n",
       "      <th>c</th>\n",
       "      <th>a</th>\n",
       "      <th>b</th>\n",
       "    </tr>\n",
       "  </thead>\n",
       "  <tbody>\n",
       "    <tr>\n",
       "      <th rowspan=\"3\" valign=\"top\">A</th>\n",
       "      <th>B</th>\n",
       "      <td>1.0</td>\n",
       "      <td>4.0</td>\n",
       "      <td>5.0</td>\n",
       "      <td>8.0</td>\n",
       "      <td>10.0</td>\n",
       "    </tr>\n",
       "    <tr>\n",
       "      <th>C</th>\n",
       "      <td>2.0</td>\n",
       "      <td>3.0</td>\n",
       "      <td>6.0</td>\n",
       "      <td>7.0</td>\n",
       "      <td>NaN</td>\n",
       "    </tr>\n",
       "    <tr>\n",
       "      <th>D</th>\n",
       "      <td>NaN</td>\n",
       "      <td>NaN</td>\n",
       "      <td>NaN</td>\n",
       "      <td>NaN</td>\n",
       "      <td>9.0</td>\n",
       "    </tr>\n",
       "  </tbody>\n",
       "</table>\n",
       "</div>"
      ],
      "text/plain": [
       "       a              b      \n",
       "       b    a    c    a     b\n",
       "A B  1.0  4.0  5.0  8.0  10.0\n",
       "  C  2.0  3.0  6.0  7.0   NaN\n",
       "  D  NaN  NaN  NaN  NaN   9.0"
      ]
     },
     "execution_count": 33,
     "metadata": {},
     "output_type": "execute_result"
    }
   ],
   "source": [
    "## Create DataFrame from dict of tuples\n",
    "d =  {\n",
    "        (\"a\", \"b\"): {(\"A\", \"B\"): 1, (\"A\", \"C\"): 2},\n",
    "        (\"a\", \"a\"): {(\"A\", \"C\"): 3, (\"A\", \"B\"): 4},\n",
    "        (\"a\", \"c\"): {(\"A\", \"B\"): 5, (\"A\", \"C\"): 6},\n",
    "        (\"b\", \"a\"): {(\"A\", \"C\"): 7, (\"A\", \"B\"): 8},\n",
    "        (\"b\", \"b\"): {(\"A\", \"D\"): 9, (\"A\", \"B\"): 10},\n",
    "    }\n",
    "dataframe_6 = pd.DataFrame(d)\n",
    "dataframe_6"
   ]
  },
  {
   "cell_type": "code",
   "execution_count": 34,
   "id": "52e519b5",
   "metadata": {},
   "outputs": [
    {
     "data": {
      "text/html": [
       "<div>\n",
       "<style scoped>\n",
       "    .dataframe tbody tr th:only-of-type {\n",
       "        vertical-align: middle;\n",
       "    }\n",
       "\n",
       "    .dataframe tbody tr th {\n",
       "        vertical-align: top;\n",
       "    }\n",
       "\n",
       "    .dataframe thead th {\n",
       "        text-align: right;\n",
       "    }\n",
       "</style>\n",
       "<table border=\"1\" class=\"dataframe\">\n",
       "  <thead>\n",
       "    <tr style=\"text-align: right;\">\n",
       "      <th></th>\n",
       "      <th>one</th>\n",
       "      <th>two</th>\n",
       "    </tr>\n",
       "  </thead>\n",
       "  <tbody>\n",
       "    <tr>\n",
       "      <th>a</th>\n",
       "      <td>13.0</td>\n",
       "      <td>77.0</td>\n",
       "    </tr>\n",
       "    <tr>\n",
       "      <th>b</th>\n",
       "      <td>25.0</td>\n",
       "      <td>29.0</td>\n",
       "    </tr>\n",
       "    <tr>\n",
       "      <th>c</th>\n",
       "      <td>93.0</td>\n",
       "      <td>30.0</td>\n",
       "    </tr>\n",
       "    <tr>\n",
       "      <th>d</th>\n",
       "      <td>NaN</td>\n",
       "      <td>44.0</td>\n",
       "    </tr>\n",
       "  </tbody>\n",
       "</table>\n",
       "</div>"
      ],
      "text/plain": [
       "    one   two\n",
       "a  13.0  77.0\n",
       "b  25.0  29.0\n",
       "c  93.0  30.0\n",
       "d   NaN  44.0"
      ]
     },
     "execution_count": 34,
     "metadata": {},
     "output_type": "execute_result"
    }
   ],
   "source": [
    "## Create DataFrame from dict of Series or dicts\n",
    "d = {\n",
    "   \"one\": pd.Series([13.0, 25.0, 93.0], index=[\"a\", \"b\", \"c\"]),\n",
    "   \"two\": pd.Series([77.0, 29.0, 30.0, 44.0], index=[\"a\", \"b\", \"c\", \"d\"]),\n",
    "   }\n",
    "dataframe_7 = pd.DataFrame(d)\n",
    "dataframe_7"
   ]
  },
  {
   "cell_type": "code",
   "execution_count": 35,
   "id": "b3e18b1f",
   "metadata": {},
   "outputs": [
    {
     "data": {
      "text/html": [
       "<div>\n",
       "<style scoped>\n",
       "    .dataframe tbody tr th:only-of-type {\n",
       "        vertical-align: middle;\n",
       "    }\n",
       "\n",
       "    .dataframe tbody tr th {\n",
       "        vertical-align: top;\n",
       "    }\n",
       "\n",
       "    .dataframe thead th {\n",
       "        text-align: right;\n",
       "    }\n",
       "</style>\n",
       "<table border=\"1\" class=\"dataframe\">\n",
       "  <thead>\n",
       "    <tr style=\"text-align: right;\">\n",
       "      <th></th>\n",
       "      <th>one</th>\n",
       "      <th>two</th>\n",
       "    </tr>\n",
       "  </thead>\n",
       "  <tbody>\n",
       "    <tr>\n",
       "      <th>d</th>\n",
       "      <td>NaN</td>\n",
       "      <td>44.0</td>\n",
       "    </tr>\n",
       "    <tr>\n",
       "      <th>b</th>\n",
       "      <td>25.0</td>\n",
       "      <td>29.0</td>\n",
       "    </tr>\n",
       "    <tr>\n",
       "      <th>a</th>\n",
       "      <td>13.0</td>\n",
       "      <td>77.0</td>\n",
       "    </tr>\n",
       "  </tbody>\n",
       "</table>\n",
       "</div>"
      ],
      "text/plain": [
       "    one   two\n",
       "d   NaN  44.0\n",
       "b  25.0  29.0\n",
       "a  13.0  77.0"
      ]
     },
     "execution_count": 35,
     "metadata": {},
     "output_type": "execute_result"
    }
   ],
   "source": [
    "dataframe_8 =  pd.DataFrame(d, index=[\"d\", \"b\", \"a\"])\n",
    "dataframe_8\n"
   ]
  },
  {
   "cell_type": "code",
   "execution_count": 36,
   "id": "c9e89872",
   "metadata": {},
   "outputs": [
    {
     "data": {
      "text/html": [
       "<div>\n",
       "<style scoped>\n",
       "    .dataframe tbody tr th:only-of-type {\n",
       "        vertical-align: middle;\n",
       "    }\n",
       "\n",
       "    .dataframe tbody tr th {\n",
       "        vertical-align: top;\n",
       "    }\n",
       "\n",
       "    .dataframe thead th {\n",
       "        text-align: right;\n",
       "    }\n",
       "</style>\n",
       "<table border=\"1\" class=\"dataframe\">\n",
       "  <thead>\n",
       "    <tr style=\"text-align: right;\">\n",
       "      <th></th>\n",
       "      <th>two</th>\n",
       "      <th>three</th>\n",
       "    </tr>\n",
       "  </thead>\n",
       "  <tbody>\n",
       "    <tr>\n",
       "      <th>d</th>\n",
       "      <td>44.0</td>\n",
       "      <td>NaN</td>\n",
       "    </tr>\n",
       "    <tr>\n",
       "      <th>b</th>\n",
       "      <td>29.0</td>\n",
       "      <td>NaN</td>\n",
       "    </tr>\n",
       "    <tr>\n",
       "      <th>a</th>\n",
       "      <td>77.0</td>\n",
       "      <td>NaN</td>\n",
       "    </tr>\n",
       "  </tbody>\n",
       "</table>\n",
       "</div>"
      ],
      "text/plain": [
       "    two three\n",
       "d  44.0   NaN\n",
       "b  29.0   NaN\n",
       "a  77.0   NaN"
      ]
     },
     "execution_count": 36,
     "metadata": {},
     "output_type": "execute_result"
    }
   ],
   "source": [
    "dataframe_9 = pd.DataFrame(d, index=[\"d\", \"b\", \"a\"], columns=[\"two\", \"three\"])\n",
    "dataframe_9"
   ]
  },
  {
   "cell_type": "code",
   "execution_count": 37,
   "id": "db53b2ad",
   "metadata": {},
   "outputs": [
    {
     "data": {
      "text/html": [
       "<div>\n",
       "<style scoped>\n",
       "    .dataframe tbody tr th:only-of-type {\n",
       "        vertical-align: middle;\n",
       "    }\n",
       "\n",
       "    .dataframe tbody tr th {\n",
       "        vertical-align: top;\n",
       "    }\n",
       "\n",
       "    .dataframe thead th {\n",
       "        text-align: right;\n",
       "    }\n",
       "</style>\n",
       "<table border=\"1\" class=\"dataframe\">\n",
       "  <thead>\n",
       "    <tr style=\"text-align: right;\">\n",
       "      <th></th>\n",
       "      <th>a</th>\n",
       "      <th>b</th>\n",
       "      <th>c</th>\n",
       "    </tr>\n",
       "  </thead>\n",
       "  <tbody>\n",
       "    <tr>\n",
       "      <th>0</th>\n",
       "      <td>1</td>\n",
       "      <td>2</td>\n",
       "      <td>NaN</td>\n",
       "    </tr>\n",
       "    <tr>\n",
       "      <th>1</th>\n",
       "      <td>5</td>\n",
       "      <td>10</td>\n",
       "      <td>20.0</td>\n",
       "    </tr>\n",
       "  </tbody>\n",
       "</table>\n",
       "</div>"
      ],
      "text/plain": [
       "   a   b     c\n",
       "0  1   2   NaN\n",
       "1  5  10  20.0"
      ]
     },
     "execution_count": 37,
     "metadata": {},
     "output_type": "execute_result"
    }
   ],
   "source": [
    "## Create DataFrame from list of dicts\n",
    "data  = [{\"a\": 1, \"b\": 2}, {\"a\": 5, \"b\": 10, \"c\": 20}]\n",
    "dataframe_10 = pd.DataFrame(data)\n",
    "dataframe_10"
   ]
  },
  {
   "cell_type": "code",
   "execution_count": 38,
   "id": "d4f24e20",
   "metadata": {},
   "outputs": [
    {
     "data": {
      "text/html": [
       "<div>\n",
       "<style scoped>\n",
       "    .dataframe tbody tr th:only-of-type {\n",
       "        vertical-align: middle;\n",
       "    }\n",
       "\n",
       "    .dataframe tbody tr th {\n",
       "        vertical-align: top;\n",
       "    }\n",
       "\n",
       "    .dataframe thead th {\n",
       "        text-align: right;\n",
       "    }\n",
       "</style>\n",
       "<table border=\"1\" class=\"dataframe\">\n",
       "  <thead>\n",
       "    <tr style=\"text-align: right;\">\n",
       "      <th></th>\n",
       "      <th>series</th>\n",
       "    </tr>\n",
       "  </thead>\n",
       "  <tbody>\n",
       "    <tr>\n",
       "      <th>a</th>\n",
       "      <td>0</td>\n",
       "    </tr>\n",
       "    <tr>\n",
       "      <th>b</th>\n",
       "      <td>1</td>\n",
       "    </tr>\n",
       "    <tr>\n",
       "      <th>c</th>\n",
       "      <td>2</td>\n",
       "    </tr>\n",
       "  </tbody>\n",
       "</table>\n",
       "</div>"
      ],
      "text/plain": [
       "   series\n",
       "a       0\n",
       "b       1\n",
       "c       2"
      ]
     },
     "execution_count": 38,
     "metadata": {},
     "output_type": "execute_result"
    }
   ],
   "source": [
    "## Create DataFrame from Series\n",
    "series = pd.Series(range(3), index=list(\"abc\"), name=\"series\")\n",
    "dataframe_11 = pd.DataFrame(series)\n",
    "dataframe_11"
   ]
  },
  {
   "cell_type": "code",
   "execution_count": 39,
   "id": "2f4480a2",
   "metadata": {},
   "outputs": [
    {
     "data": {
      "text/html": [
       "<div>\n",
       "<style scoped>\n",
       "    .dataframe tbody tr th:only-of-type {\n",
       "        vertical-align: middle;\n",
       "    }\n",
       "\n",
       "    .dataframe tbody tr th {\n",
       "        vertical-align: top;\n",
       "    }\n",
       "\n",
       "    .dataframe thead th {\n",
       "        text-align: right;\n",
       "    }\n",
       "</style>\n",
       "<table border=\"1\" class=\"dataframe\">\n",
       "  <thead>\n",
       "    <tr style=\"text-align: right;\">\n",
       "      <th></th>\n",
       "      <th>one</th>\n",
       "      <th>two</th>\n",
       "    </tr>\n",
       "  </thead>\n",
       "  <tbody>\n",
       "    <tr>\n",
       "      <th>a</th>\n",
       "      <td>19.0</td>\n",
       "      <td>77.0</td>\n",
       "    </tr>\n",
       "    <tr>\n",
       "      <th>b</th>\n",
       "      <td>25.0</td>\n",
       "      <td>29.0</td>\n",
       "    </tr>\n",
       "    <tr>\n",
       "      <th>c</th>\n",
       "      <td>93.0</td>\n",
       "      <td>30.0</td>\n",
       "    </tr>\n",
       "    <tr>\n",
       "      <th>d</th>\n",
       "      <td>NaN</td>\n",
       "      <td>44.0</td>\n",
       "    </tr>\n",
       "  </tbody>\n",
       "</table>\n",
       "</div>"
      ],
      "text/plain": [
       "    one   two\n",
       "a  19.0  77.0\n",
       "b  25.0  29.0\n",
       "c  93.0  30.0\n",
       "d   NaN  44.0"
      ]
     },
     "execution_count": 39,
     "metadata": {},
     "output_type": "execute_result"
    }
   ],
   "source": [
    "# insert element to Dataframe\n",
    "d = {\n",
    "   \"one\": pd.Series([13.0, 25.0, 93.0], index=[\"a\", \"b\", \"c\"]),\n",
    "   \"two\": pd.Series([77.0, 29.0, 30.0, 44.0], index=[\"a\", \"b\", \"c\", \"d\"])\n",
    "   }\n",
    "dataframe_1 = pd.DataFrame(d)\n",
    "dataframe_1['one']['a'] = 19\n",
    "dataframe_1\n"
   ]
  },
  {
   "cell_type": "code",
   "execution_count": 40,
   "id": "bdc328e0",
   "metadata": {},
   "outputs": [
    {
     "data": {
      "text/html": [
       "<div>\n",
       "<style scoped>\n",
       "    .dataframe tbody tr th:only-of-type {\n",
       "        vertical-align: middle;\n",
       "    }\n",
       "\n",
       "    .dataframe tbody tr th {\n",
       "        vertical-align: top;\n",
       "    }\n",
       "\n",
       "    .dataframe thead th {\n",
       "        text-align: right;\n",
       "    }\n",
       "</style>\n",
       "<table border=\"1\" class=\"dataframe\">\n",
       "  <thead>\n",
       "    <tr style=\"text-align: right;\">\n",
       "      <th></th>\n",
       "      <th>one</th>\n",
       "      <th>two</th>\n",
       "      <th>three</th>\n",
       "    </tr>\n",
       "  </thead>\n",
       "  <tbody>\n",
       "    <tr>\n",
       "      <th>a</th>\n",
       "      <td>19.0</td>\n",
       "      <td>77.0</td>\n",
       "      <td>99</td>\n",
       "    </tr>\n",
       "    <tr>\n",
       "      <th>b</th>\n",
       "      <td>25.0</td>\n",
       "      <td>29.0</td>\n",
       "      <td>11</td>\n",
       "    </tr>\n",
       "    <tr>\n",
       "      <th>c</th>\n",
       "      <td>93.0</td>\n",
       "      <td>30.0</td>\n",
       "      <td>35</td>\n",
       "    </tr>\n",
       "    <tr>\n",
       "      <th>d</th>\n",
       "      <td>NaN</td>\n",
       "      <td>44.0</td>\n",
       "      <td>65</td>\n",
       "    </tr>\n",
       "  </tbody>\n",
       "</table>\n",
       "</div>"
      ],
      "text/plain": [
       "    one   two  three\n",
       "a  19.0  77.0     99\n",
       "b  25.0  29.0     11\n",
       "c  93.0  30.0     35\n",
       "d   NaN  44.0     65"
      ]
     },
     "execution_count": 40,
     "metadata": {},
     "output_type": "execute_result"
    }
   ],
   "source": [
    "\n",
    "dataframe_1.insert(2, \"three\", [99,11,35,65])\n",
    "dataframe_1"
   ]
  },
  {
   "cell_type": "markdown",
   "id": "7e8e54d9",
   "metadata": {},
   "source": [
    "### Reading data from CSV "
   ]
  },
  {
   "cell_type": "code",
   "execution_count": 41,
   "id": "6ed6648d",
   "metadata": {},
   "outputs": [
    {
     "name": "stdout",
     "output_type": "stream",
     "text": [
      "<class 'pandas.core.frame.DataFrame'>\n",
      "RangeIndex: 891 entries, 0 to 890\n",
      "Data columns (total 9 columns):\n",
      " #   Column       Non-Null Count  Dtype  \n",
      "---  ------       --------------  -----  \n",
      " 0   PassengerId  891 non-null    int64  \n",
      " 1   Survived     891 non-null    object \n",
      " 2   Pclass       891 non-null    int64  \n",
      " 3   Sex          891 non-null    object \n",
      " 4   Age          714 non-null    float64\n",
      " 5   SibSp        891 non-null    int64  \n",
      " 6   Parch        891 non-null    int64  \n",
      " 7   Fare         891 non-null    float64\n",
      " 8   Cabin        204 non-null    object \n",
      "dtypes: float64(2), int64(4), object(3)\n",
      "memory usage: 62.8+ KB\n"
     ]
    }
   ],
   "source": [
    "# local CSV\n",
    "CSV_1 = pd.read_csv('titanic.csv', sep=';' , usecols=['PassengerId','Survived', 'Pclass', 'Sex', 'SibSp', 'Parch', 'Age', 'Fare', 'Cabin'])\n",
    "CSV_1.info()"
   ]
  },
  {
   "cell_type": "code",
   "execution_count": 42,
   "id": "010a977b",
   "metadata": {},
   "outputs": [
    {
     "data": {
      "text/plain": [
       "PassengerId      int64\n",
       "Survived        object\n",
       "Pclass           int64\n",
       "Sex             object\n",
       "Age            float64\n",
       "SibSp            int64\n",
       "Parch            int64\n",
       "Fare           float64\n",
       "Cabin           object\n",
       "dtype: object"
      ]
     },
     "execution_count": 42,
     "metadata": {},
     "output_type": "execute_result"
    }
   ],
   "source": [
    "CSV_1.dtypes"
   ]
  },
  {
   "cell_type": "code",
   "execution_count": 43,
   "id": "86529c95",
   "metadata": {},
   "outputs": [
    {
     "data": {
      "text/html": [
       "<div>\n",
       "<style scoped>\n",
       "    .dataframe tbody tr th:only-of-type {\n",
       "        vertical-align: middle;\n",
       "    }\n",
       "\n",
       "    .dataframe tbody tr th {\n",
       "        vertical-align: top;\n",
       "    }\n",
       "\n",
       "    .dataframe thead th {\n",
       "        text-align: right;\n",
       "    }\n",
       "</style>\n",
       "<table border=\"1\" class=\"dataframe\">\n",
       "  <thead>\n",
       "    <tr style=\"text-align: right;\">\n",
       "      <th></th>\n",
       "      <th>PassengerId</th>\n",
       "      <th>Survived</th>\n",
       "      <th>Pclass</th>\n",
       "      <th>Sex</th>\n",
       "      <th>Age</th>\n",
       "      <th>SibSp</th>\n",
       "      <th>Parch</th>\n",
       "      <th>Fare</th>\n",
       "      <th>Cabin</th>\n",
       "    </tr>\n",
       "  </thead>\n",
       "  <tbody>\n",
       "    <tr>\n",
       "      <th>0</th>\n",
       "      <td>343</td>\n",
       "      <td>No</td>\n",
       "      <td>2</td>\n",
       "      <td>male</td>\n",
       "      <td>28.0</td>\n",
       "      <td>0</td>\n",
       "      <td>0</td>\n",
       "      <td>13.0000</td>\n",
       "      <td>NaN</td>\n",
       "    </tr>\n",
       "    <tr>\n",
       "      <th>1</th>\n",
       "      <td>76</td>\n",
       "      <td>No</td>\n",
       "      <td>3</td>\n",
       "      <td>male</td>\n",
       "      <td>25.0</td>\n",
       "      <td>0</td>\n",
       "      <td>0</td>\n",
       "      <td>7.6500</td>\n",
       "      <td>F G73</td>\n",
       "    </tr>\n",
       "    <tr>\n",
       "      <th>2</th>\n",
       "      <td>641</td>\n",
       "      <td>No</td>\n",
       "      <td>3</td>\n",
       "      <td>male</td>\n",
       "      <td>20.0</td>\n",
       "      <td>0</td>\n",
       "      <td>0</td>\n",
       "      <td>7.8542</td>\n",
       "      <td>NaN</td>\n",
       "    </tr>\n",
       "    <tr>\n",
       "      <th>3</th>\n",
       "      <td>568</td>\n",
       "      <td>No</td>\n",
       "      <td>3</td>\n",
       "      <td>female</td>\n",
       "      <td>29.0</td>\n",
       "      <td>0</td>\n",
       "      <td>4</td>\n",
       "      <td>21.0750</td>\n",
       "      <td>NaN</td>\n",
       "    </tr>\n",
       "    <tr>\n",
       "      <th>4</th>\n",
       "      <td>672</td>\n",
       "      <td>No</td>\n",
       "      <td>1</td>\n",
       "      <td>male</td>\n",
       "      <td>31.0</td>\n",
       "      <td>1</td>\n",
       "      <td>0</td>\n",
       "      <td>52.0000</td>\n",
       "      <td>B71</td>\n",
       "    </tr>\n",
       "    <tr>\n",
       "      <th>5</th>\n",
       "      <td>105</td>\n",
       "      <td>No</td>\n",
       "      <td>3</td>\n",
       "      <td>male</td>\n",
       "      <td>37.0</td>\n",
       "      <td>2</td>\n",
       "      <td>0</td>\n",
       "      <td>7.9250</td>\n",
       "      <td>NaN</td>\n",
       "    </tr>\n",
       "    <tr>\n",
       "      <th>6</th>\n",
       "      <td>576</td>\n",
       "      <td>No</td>\n",
       "      <td>3</td>\n",
       "      <td>male</td>\n",
       "      <td>19.0</td>\n",
       "      <td>0</td>\n",
       "      <td>0</td>\n",
       "      <td>14.5000</td>\n",
       "      <td>NaN</td>\n",
       "    </tr>\n",
       "    <tr>\n",
       "      <th>7</th>\n",
       "      <td>382</td>\n",
       "      <td>Yes</td>\n",
       "      <td>3</td>\n",
       "      <td>female</td>\n",
       "      <td>1.0</td>\n",
       "      <td>0</td>\n",
       "      <td>2</td>\n",
       "      <td>15.7417</td>\n",
       "      <td>NaN</td>\n",
       "    </tr>\n",
       "    <tr>\n",
       "      <th>8</th>\n",
       "      <td>228</td>\n",
       "      <td>No</td>\n",
       "      <td>3</td>\n",
       "      <td>male</td>\n",
       "      <td>20.5</td>\n",
       "      <td>0</td>\n",
       "      <td>0</td>\n",
       "      <td>7.2500</td>\n",
       "      <td>NaN</td>\n",
       "    </tr>\n",
       "    <tr>\n",
       "      <th>9</th>\n",
       "      <td>433</td>\n",
       "      <td>Yes</td>\n",
       "      <td>2</td>\n",
       "      <td>female</td>\n",
       "      <td>42.0</td>\n",
       "      <td>1</td>\n",
       "      <td>0</td>\n",
       "      <td>26.0000</td>\n",
       "      <td>NaN</td>\n",
       "    </tr>\n",
       "  </tbody>\n",
       "</table>\n",
       "</div>"
      ],
      "text/plain": [
       "   PassengerId Survived  Pclass     Sex   Age  SibSp  Parch     Fare  Cabin\n",
       "0          343       No       2    male  28.0      0      0  13.0000    NaN\n",
       "1           76       No       3    male  25.0      0      0   7.6500  F G73\n",
       "2          641       No       3    male  20.0      0      0   7.8542    NaN\n",
       "3          568       No       3  female  29.0      0      4  21.0750    NaN\n",
       "4          672       No       1    male  31.0      1      0  52.0000    B71\n",
       "5          105       No       3    male  37.0      2      0   7.9250    NaN\n",
       "6          576       No       3    male  19.0      0      0  14.5000    NaN\n",
       "7          382      Yes       3  female   1.0      0      2  15.7417    NaN\n",
       "8          228       No       3    male  20.5      0      0   7.2500    NaN\n",
       "9          433      Yes       2  female  42.0      1      0  26.0000    NaN"
      ]
     },
     "execution_count": 43,
     "metadata": {},
     "output_type": "execute_result"
    }
   ],
   "source": [
    "CSV_1.head(10)"
   ]
  },
  {
   "cell_type": "code",
   "execution_count": 44,
   "id": "91ed02e6",
   "metadata": {},
   "outputs": [
    {
     "data": {
      "text/html": [
       "<div>\n",
       "<style scoped>\n",
       "    .dataframe tbody tr th:only-of-type {\n",
       "        vertical-align: middle;\n",
       "    }\n",
       "\n",
       "    .dataframe tbody tr th {\n",
       "        vertical-align: top;\n",
       "    }\n",
       "\n",
       "    .dataframe thead th {\n",
       "        text-align: right;\n",
       "    }\n",
       "</style>\n",
       "<table border=\"1\" class=\"dataframe\">\n",
       "  <thead>\n",
       "    <tr style=\"text-align: right;\">\n",
       "      <th></th>\n",
       "      <th>PassengerId</th>\n",
       "      <th>Survived</th>\n",
       "      <th>Pclass</th>\n",
       "      <th>Sex</th>\n",
       "      <th>Age</th>\n",
       "      <th>SibSp</th>\n",
       "      <th>Parch</th>\n",
       "      <th>Fare</th>\n",
       "      <th>Cabin</th>\n",
       "    </tr>\n",
       "  </thead>\n",
       "  <tbody>\n",
       "    <tr>\n",
       "      <th>881</th>\n",
       "      <td>250</td>\n",
       "      <td>No</td>\n",
       "      <td>2</td>\n",
       "      <td>male</td>\n",
       "      <td>54.0</td>\n",
       "      <td>1</td>\n",
       "      <td>0</td>\n",
       "      <td>26.0000</td>\n",
       "      <td>NaN</td>\n",
       "    </tr>\n",
       "    <tr>\n",
       "      <th>882</th>\n",
       "      <td>418</td>\n",
       "      <td>Yes</td>\n",
       "      <td>2</td>\n",
       "      <td>female</td>\n",
       "      <td>18.0</td>\n",
       "      <td>0</td>\n",
       "      <td>2</td>\n",
       "      <td>13.0000</td>\n",
       "      <td>NaN</td>\n",
       "    </tr>\n",
       "    <tr>\n",
       "      <th>883</th>\n",
       "      <td>478</td>\n",
       "      <td>No</td>\n",
       "      <td>3</td>\n",
       "      <td>male</td>\n",
       "      <td>29.0</td>\n",
       "      <td>1</td>\n",
       "      <td>0</td>\n",
       "      <td>7.0458</td>\n",
       "      <td>NaN</td>\n",
       "    </tr>\n",
       "    <tr>\n",
       "      <th>884</th>\n",
       "      <td>509</td>\n",
       "      <td>No</td>\n",
       "      <td>3</td>\n",
       "      <td>male</td>\n",
       "      <td>28.0</td>\n",
       "      <td>0</td>\n",
       "      <td>0</td>\n",
       "      <td>22.5250</td>\n",
       "      <td>NaN</td>\n",
       "    </tr>\n",
       "    <tr>\n",
       "      <th>885</th>\n",
       "      <td>187</td>\n",
       "      <td>Yes</td>\n",
       "      <td>3</td>\n",
       "      <td>female</td>\n",
       "      <td>NaN</td>\n",
       "      <td>1</td>\n",
       "      <td>0</td>\n",
       "      <td>15.5000</td>\n",
       "      <td>NaN</td>\n",
       "    </tr>\n",
       "    <tr>\n",
       "      <th>886</th>\n",
       "      <td>779</td>\n",
       "      <td>No</td>\n",
       "      <td>3</td>\n",
       "      <td>male</td>\n",
       "      <td>NaN</td>\n",
       "      <td>0</td>\n",
       "      <td>0</td>\n",
       "      <td>7.7375</td>\n",
       "      <td>NaN</td>\n",
       "    </tr>\n",
       "    <tr>\n",
       "      <th>887</th>\n",
       "      <td>435</td>\n",
       "      <td>No</td>\n",
       "      <td>1</td>\n",
       "      <td>male</td>\n",
       "      <td>50.0</td>\n",
       "      <td>1</td>\n",
       "      <td>0</td>\n",
       "      <td>55.9000</td>\n",
       "      <td>E44</td>\n",
       "    </tr>\n",
       "    <tr>\n",
       "      <th>888</th>\n",
       "      <td>342</td>\n",
       "      <td>Yes</td>\n",
       "      <td>1</td>\n",
       "      <td>female</td>\n",
       "      <td>24.0</td>\n",
       "      <td>3</td>\n",
       "      <td>2</td>\n",
       "      <td>263.0000</td>\n",
       "      <td>C23 C25 C27</td>\n",
       "    </tr>\n",
       "    <tr>\n",
       "      <th>889</th>\n",
       "      <td>633</td>\n",
       "      <td>Yes</td>\n",
       "      <td>1</td>\n",
       "      <td>male</td>\n",
       "      <td>32.0</td>\n",
       "      <td>0</td>\n",
       "      <td>0</td>\n",
       "      <td>30.5000</td>\n",
       "      <td>B50</td>\n",
       "    </tr>\n",
       "    <tr>\n",
       "      <th>890</th>\n",
       "      <td>111</td>\n",
       "      <td>No</td>\n",
       "      <td>1</td>\n",
       "      <td>male</td>\n",
       "      <td>47.0</td>\n",
       "      <td>0</td>\n",
       "      <td>0</td>\n",
       "      <td>52.0000</td>\n",
       "      <td>C110</td>\n",
       "    </tr>\n",
       "  </tbody>\n",
       "</table>\n",
       "</div>"
      ],
      "text/plain": [
       "     PassengerId Survived  Pclass     Sex   Age  SibSp  Parch      Fare  \\\n",
       "881          250       No       2    male  54.0      1      0   26.0000   \n",
       "882          418      Yes       2  female  18.0      0      2   13.0000   \n",
       "883          478       No       3    male  29.0      1      0    7.0458   \n",
       "884          509       No       3    male  28.0      0      0   22.5250   \n",
       "885          187      Yes       3  female   NaN      1      0   15.5000   \n",
       "886          779       No       3    male   NaN      0      0    7.7375   \n",
       "887          435       No       1    male  50.0      1      0   55.9000   \n",
       "888          342      Yes       1  female  24.0      3      2  263.0000   \n",
       "889          633      Yes       1    male  32.0      0      0   30.5000   \n",
       "890          111       No       1    male  47.0      0      0   52.0000   \n",
       "\n",
       "           Cabin  \n",
       "881          NaN  \n",
       "882          NaN  \n",
       "883          NaN  \n",
       "884          NaN  \n",
       "885          NaN  \n",
       "886          NaN  \n",
       "887          E44  \n",
       "888  C23 C25 C27  \n",
       "889          B50  \n",
       "890         C110  "
      ]
     },
     "execution_count": 44,
     "metadata": {},
     "output_type": "execute_result"
    }
   ],
   "source": [
    "CSV_1.tail(10)"
   ]
  },
  {
   "cell_type": "markdown",
   "id": "05198a40",
   "metadata": {},
   "source": [
    "### staties"
   ]
  },
  {
   "cell_type": "code",
   "execution_count": 45,
   "id": "117da1ef",
   "metadata": {},
   "outputs": [
    {
     "data": {
      "text/html": [
       "<div>\n",
       "<style scoped>\n",
       "    .dataframe tbody tr th:only-of-type {\n",
       "        vertical-align: middle;\n",
       "    }\n",
       "\n",
       "    .dataframe tbody tr th {\n",
       "        vertical-align: top;\n",
       "    }\n",
       "\n",
       "    .dataframe thead th {\n",
       "        text-align: right;\n",
       "    }\n",
       "</style>\n",
       "<table border=\"1\" class=\"dataframe\">\n",
       "  <thead>\n",
       "    <tr style=\"text-align: right;\">\n",
       "      <th></th>\n",
       "      <th>PassengerId</th>\n",
       "      <th>Pclass</th>\n",
       "      <th>Age</th>\n",
       "      <th>SibSp</th>\n",
       "      <th>Parch</th>\n",
       "      <th>Fare</th>\n",
       "    </tr>\n",
       "  </thead>\n",
       "  <tbody>\n",
       "    <tr>\n",
       "      <th>count</th>\n",
       "      <td>891.000000</td>\n",
       "      <td>891.000000</td>\n",
       "      <td>714.000000</td>\n",
       "      <td>891.000000</td>\n",
       "      <td>891.000000</td>\n",
       "      <td>891.000000</td>\n",
       "    </tr>\n",
       "    <tr>\n",
       "      <th>mean</th>\n",
       "      <td>446.000000</td>\n",
       "      <td>2.308642</td>\n",
       "      <td>29.699118</td>\n",
       "      <td>0.523008</td>\n",
       "      <td>0.381594</td>\n",
       "      <td>32.204208</td>\n",
       "    </tr>\n",
       "    <tr>\n",
       "      <th>std</th>\n",
       "      <td>257.353842</td>\n",
       "      <td>0.836071</td>\n",
       "      <td>14.526497</td>\n",
       "      <td>1.102743</td>\n",
       "      <td>0.806057</td>\n",
       "      <td>49.693429</td>\n",
       "    </tr>\n",
       "    <tr>\n",
       "      <th>min</th>\n",
       "      <td>1.000000</td>\n",
       "      <td>1.000000</td>\n",
       "      <td>0.420000</td>\n",
       "      <td>0.000000</td>\n",
       "      <td>0.000000</td>\n",
       "      <td>0.000000</td>\n",
       "    </tr>\n",
       "    <tr>\n",
       "      <th>25%</th>\n",
       "      <td>223.500000</td>\n",
       "      <td>2.000000</td>\n",
       "      <td>20.125000</td>\n",
       "      <td>0.000000</td>\n",
       "      <td>0.000000</td>\n",
       "      <td>7.910400</td>\n",
       "    </tr>\n",
       "    <tr>\n",
       "      <th>50%</th>\n",
       "      <td>446.000000</td>\n",
       "      <td>3.000000</td>\n",
       "      <td>28.000000</td>\n",
       "      <td>0.000000</td>\n",
       "      <td>0.000000</td>\n",
       "      <td>14.454200</td>\n",
       "    </tr>\n",
       "    <tr>\n",
       "      <th>75%</th>\n",
       "      <td>668.500000</td>\n",
       "      <td>3.000000</td>\n",
       "      <td>38.000000</td>\n",
       "      <td>1.000000</td>\n",
       "      <td>0.000000</td>\n",
       "      <td>31.000000</td>\n",
       "    </tr>\n",
       "    <tr>\n",
       "      <th>max</th>\n",
       "      <td>891.000000</td>\n",
       "      <td>3.000000</td>\n",
       "      <td>80.000000</td>\n",
       "      <td>8.000000</td>\n",
       "      <td>6.000000</td>\n",
       "      <td>512.329200</td>\n",
       "    </tr>\n",
       "  </tbody>\n",
       "</table>\n",
       "</div>"
      ],
      "text/plain": [
       "       PassengerId      Pclass         Age       SibSp       Parch        Fare\n",
       "count   891.000000  891.000000  714.000000  891.000000  891.000000  891.000000\n",
       "mean    446.000000    2.308642   29.699118    0.523008    0.381594   32.204208\n",
       "std     257.353842    0.836071   14.526497    1.102743    0.806057   49.693429\n",
       "min       1.000000    1.000000    0.420000    0.000000    0.000000    0.000000\n",
       "25%     223.500000    2.000000   20.125000    0.000000    0.000000    7.910400\n",
       "50%     446.000000    3.000000   28.000000    0.000000    0.000000   14.454200\n",
       "75%     668.500000    3.000000   38.000000    1.000000    0.000000   31.000000\n",
       "max     891.000000    3.000000   80.000000    8.000000    6.000000  512.329200"
      ]
     },
     "execution_count": 45,
     "metadata": {},
     "output_type": "execute_result"
    }
   ],
   "source": [
    "CSV_1.describe()"
   ]
  },
  {
   "cell_type": "code",
   "execution_count": null,
   "id": "a8c72745",
   "metadata": {},
   "outputs": [],
   "source": [
    "# Remote CSV\n",
    "CSV_2 = pd.read_csv('data.csv')\n",
    "CSV_2"
   ]
  },
  {
   "cell_type": "code",
   "execution_count": null,
   "id": "c2224f2e",
   "metadata": {},
   "outputs": [],
   "source": [
    "CSV_2.dtypes"
   ]
  },
  {
   "cell_type": "code",
   "execution_count": null,
   "id": "50eb4d59",
   "metadata": {},
   "outputs": [],
   "source": [
    "CSV_2.head(15)"
   ]
  },
  {
   "cell_type": "code",
   "execution_count": null,
   "id": "da8dc5c4",
   "metadata": {},
   "outputs": [],
   "source": [
    "CSV_2.tail(15)"
   ]
  },
  {
   "cell_type": "markdown",
   "id": "1d32b5db",
   "metadata": {},
   "source": [
    "### Reading data from  Excel"
   ]
  },
  {
   "cell_type": "code",
   "execution_count": null,
   "id": "6fbed3cf",
   "metadata": {},
   "outputs": [],
   "source": [
    "# local Execl\n",
    "Excel_1 =  pd.read_excel('employees.xlsx',sheet_name=\"Sheet1\")\n",
    "Excel_1.info()\n"
   ]
  },
  {
   "cell_type": "code",
   "execution_count": null,
   "id": "ed5f7478",
   "metadata": {},
   "outputs": [],
   "source": [
    "Excel_1.dtypes"
   ]
  },
  {
   "cell_type": "code",
   "execution_count": null,
   "id": "62132360",
   "metadata": {},
   "outputs": [],
   "source": [
    "Excel_1.head(10)"
   ]
  },
  {
   "cell_type": "code",
   "execution_count": null,
   "id": "60533351",
   "metadata": {},
   "outputs": [],
   "source": [
    "Excel_1.tail(10)"
   ]
  },
  {
   "cell_type": "code",
   "execution_count": null,
   "id": "edd02021",
   "metadata": {},
   "outputs": [],
   "source": [
    "# Remote Excel\n",
    "Excel_1 =  pd.read_excel('https://view.officeapps.live.com/op/view.aspx?src=https%3A%2F%2Fs3.us-east-1.amazonaws.com%2Fhdx-production-filestore%2Fresources%2F946f7939-75cd-45c0-a67a-63c68808730e%2Fsm_us6000jllz_pop_estimation.xlsx%3FAWSAccessKeyId%3DAKIAXYC32WNAS5V67V55%26Signature%3DHX2HbNVQhUrW2%252FwTvBmChRbOG1M%253D%26Expires%3D1688926317&wdOrigin=BROWSELINK')\n",
    "Excel_1.info()\n"
   ]
  },
  {
   "cell_type": "markdown",
   "id": "d47c1e29",
   "metadata": {},
   "source": [
    "### Reading data from HTML Website"
   ]
  },
  {
   "cell_type": "code",
   "execution_count": null,
   "id": "3662ef4d",
   "metadata": {},
   "outputs": [],
   "source": [
    "## Remote HTML Website\n",
    "HTML_1 = pd.read_html('https://hoopshype.com/salaries/players/')\n",
    "HTML_1"
   ]
  },
  {
   "cell_type": "markdown",
   "id": "b602cdcc",
   "metadata": {},
   "source": [
    "### Reading data from DataBase SQL"
   ]
  },
  {
   "cell_type": "code",
   "execution_count": null,
   "id": "d70142e7",
   "metadata": {},
   "outputs": [],
   "source": [
    "left_table = pd.DataFrame(\n",
    "  data = {\n",
    "      'ID':[1,2,3,4],\n",
    "      'VALUE':['LEFT 1','LEFT 2','LEFT 3','LEFT 4']\n",
    "  }\n",
    ")\n",
    "\n",
    "right_table = pd.DataFrame(\n",
    "  data = {\n",
    "      'ID':[1,4,5,6],\n",
    "      'VALUE':['RIGHT 1','RIGHT 2','RIGHT 3','RIGHT 4']\n",
    "  }\n",
    ")\n",
    "\n"
   ]
  },
  {
   "cell_type": "code",
   "execution_count": null,
   "id": "74a443ff",
   "metadata": {},
   "outputs": [],
   "source": [
    "## Inner join\n",
    "left_table.merge( right_table , left_on ='ID'  , right_on = 'ID', suffixes = ('_LEFT','_RIGHT'))"
   ]
  },
  {
   "cell_type": "code",
   "execution_count": null,
   "id": "0bba1f06",
   "metadata": {},
   "outputs": [],
   "source": [
    "## Self join\n",
    "left_table.merge( left_table , left_on ='ID'  , right_on = 'ID', suffixes = ('_LEFT','_LEFT2'))"
   ]
  },
  {
   "cell_type": "code",
   "execution_count": null,
   "id": "2cadacc0",
   "metadata": {},
   "outputs": [],
   "source": [
    "## Left join\n",
    "left_table.merge( right_table , how ='left' , on ='ID', suffixes = ('_LEFT','_RIGHT'))"
   ]
  },
  {
   "cell_type": "code",
   "execution_count": null,
   "id": "9fecdfcd",
   "metadata": {},
   "outputs": [],
   "source": [
    "## Right join\n",
    "left_table.merge( right_table , how ='right' , on ='ID', suffixes = ('_LEFT','_RIGHT'))"
   ]
  },
  {
   "cell_type": "code",
   "execution_count": null,
   "id": "9cdbce17",
   "metadata": {},
   "outputs": [],
   "source": [
    "## Full join\n",
    "left_table.merge( right_table , how ='outer' , suffixes = ('_LEFT','_RIGHT'))"
   ]
  },
  {
   "cell_type": "code",
   "execution_count": null,
   "id": "976b5dff",
   "metadata": {},
   "outputs": [],
   "source": [
    "## Cross join\n",
    "left_table.merge( right_table , how ='cross', suffixes = ('_LEFT','_RIGHT'))"
   ]
  },
  {
   "cell_type": "code",
   "execution_count": null,
   "id": "9de947e4",
   "metadata": {},
   "outputs": [],
   "source": [
    "left_table = pd.DataFrame(\n",
    "  data = {\n",
    "      'ID':[1,7,3,8,9],\n",
    "      'VALUE':['VALUE 1','VALUE 7','VALUE 3','VALUE 8','VALUE 9']\n",
    "  }\n",
    ")\n",
    "\n",
    "right_table = pd.DataFrame(\n",
    "  data = {\n",
    "      'ID':[1,8,2,10,9],\n",
    "      'VALUE':['VALUE 1','VALUE 8','VALUE 2','VALUE 10','VALUE 9']\n",
    "  }\n",
    ")"
   ]
  },
  {
   "cell_type": "code",
   "execution_count": null,
   "id": "844d1005",
   "metadata": {},
   "outputs": [],
   "source": [
    "## UNION ALL\n",
    "pd.concat([right_table,left_table] , ignore_index=True)"
   ]
  },
  {
   "cell_type": "code",
   "execution_count": null,
   "id": "1a398e96",
   "metadata": {},
   "outputs": [],
   "source": [
    "## UNION\n",
    "pd.concat([right_table,left_table] , ignore_index=True).drop_duplicates()"
   ]
  },
  {
   "cell_type": "markdown",
   "id": "a0f5d8c6",
   "metadata": {},
   "source": [
    "### Boolean Indexing"
   ]
  },
  {
   "cell_type": "code",
   "execution_count": null,
   "id": "0a3f0450",
   "metadata": {},
   "outputs": [],
   "source": [
    "CSV_1.Sex == 'male'"
   ]
  },
  {
   "cell_type": "code",
   "execution_count": null,
   "id": "9ec72eaa",
   "metadata": {},
   "outputs": [],
   "source": [
    "CSV_1[CSV_1.Sex == 'male']"
   ]
  },
  {
   "cell_type": "code",
   "execution_count": null,
   "id": "8bb55034",
   "metadata": {},
   "outputs": [],
   "source": [
    "CSV_1.Survived == 'Yes'"
   ]
  },
  {
   "cell_type": "code",
   "execution_count": null,
   "id": "39bf5dae",
   "metadata": {},
   "outputs": [],
   "source": [
    "CSV_1[CSV_1.Survived == 'Yes']"
   ]
  },
  {
   "cell_type": "code",
   "execution_count": null,
   "id": "db5ca729",
   "metadata": {},
   "outputs": [],
   "source": [
    "np.logical_and(CSV_1.Sex == 'male',CSV_1.Survived == 'Yes')"
   ]
  },
  {
   "cell_type": "code",
   "execution_count": null,
   "id": "677a7155",
   "metadata": {},
   "outputs": [],
   "source": [
    "CSV_1[np.logical_and(CSV_1.Sex == 'male',CSV_1.Survived == 'Yes')]"
   ]
  },
  {
   "cell_type": "code",
   "execution_count": null,
   "id": "6743d3e5",
   "metadata": {},
   "outputs": [],
   "source": [
    "CSV_1['Sex'] == 'male'"
   ]
  },
  {
   "cell_type": "code",
   "execution_count": null,
   "id": "596eb091",
   "metadata": {},
   "outputs": [],
   "source": [
    "CSV_1[CSV_1['Sex'] == 'male']"
   ]
  },
  {
   "cell_type": "code",
   "execution_count": null,
   "id": "81757328",
   "metadata": {},
   "outputs": [],
   "source": [
    "CSV_1['Survived'] == 'Yes'"
   ]
  },
  {
   "cell_type": "code",
   "execution_count": null,
   "id": "13d8a2a7",
   "metadata": {},
   "outputs": [],
   "source": [
    "CSV_1[CSV_1['Survived'] == 'Yes']"
   ]
  },
  {
   "cell_type": "code",
   "execution_count": null,
   "id": "3d09e6a6",
   "metadata": {},
   "outputs": [],
   "source": [
    "np.logical_and(CSV_1['Sex'] == 'male',CSV_1['Survived'] == 'Yes')"
   ]
  },
  {
   "cell_type": "code",
   "execution_count": null,
   "id": "958ec7bc",
   "metadata": {},
   "outputs": [],
   "source": [
    "CSV_1[np.logical_and(CSV_1['Sex'] == 'male',CSV_1['Survived'] == 'Yes')]"
   ]
  },
  {
   "cell_type": "code",
   "execution_count": null,
   "id": "1f252dc9",
   "metadata": {},
   "outputs": [],
   "source": [
    "CSV_2.country == 'Sweden'"
   ]
  },
  {
   "cell_type": "code",
   "execution_count": null,
   "id": "e35acd54",
   "metadata": {},
   "outputs": [],
   "source": [
    "CSV_2[CSV_2.country == 'Sweden']"
   ]
  },
  {
   "cell_type": "code",
   "execution_count": null,
   "id": "7c0d81f4",
   "metadata": {},
   "outputs": [],
   "source": [
    "CSV_2.population >= 1291589 "
   ]
  },
  {
   "cell_type": "code",
   "execution_count": null,
   "id": "423e4056",
   "metadata": {},
   "outputs": [],
   "source": [
    "CSV_2[CSV_2.population >= 1291589]"
   ]
  },
  {
   "cell_type": "code",
   "execution_count": null,
   "id": "0876d790",
   "metadata": {},
   "outputs": [],
   "source": [
    "np.logical_and(CSV_2.country == 'Sweden',CSV_2.population >= 1291589)"
   ]
  },
  {
   "cell_type": "code",
   "execution_count": null,
   "id": "e2e34434",
   "metadata": {},
   "outputs": [],
   "source": [
    "CSV_2[np.logical_and(CSV_2.country == 'Sweden',CSV_2.population >= 1291589)]"
   ]
  },
  {
   "cell_type": "code",
   "execution_count": null,
   "id": "782441a8",
   "metadata": {},
   "outputs": [],
   "source": [
    "CSV_2['population'] >= 1291589"
   ]
  },
  {
   "cell_type": "code",
   "execution_count": null,
   "id": "71a4319c",
   "metadata": {},
   "outputs": [],
   "source": [
    "CSV_2[CSV_2['population'] >= 1291589]"
   ]
  },
  {
   "cell_type": "code",
   "execution_count": null,
   "id": "66ac8ebb",
   "metadata": {},
   "outputs": [],
   "source": [
    "CSV_2['country'] == 'Sweden'"
   ]
  },
  {
   "cell_type": "code",
   "execution_count": null,
   "id": "315ca7ae",
   "metadata": {},
   "outputs": [],
   "source": [
    "CSV_2[CSV_2['country'] == 'Sweden']"
   ]
  },
  {
   "cell_type": "code",
   "execution_count": null,
   "id": "a2b984c3",
   "metadata": {},
   "outputs": [],
   "source": [
    "np.logical_and(CSV_2.country == 'Sweden',CSV_2.population >= 1291589)"
   ]
  },
  {
   "cell_type": "code",
   "execution_count": null,
   "id": "e1a16210",
   "metadata": {},
   "outputs": [],
   "source": [
    "CSV_2[np.logical_and(CSV_2.country == 'Sweden',CSV_2.population >= 1291589)]"
   ]
  },
  {
   "cell_type": "code",
   "execution_count": null,
   "id": "855e1961",
   "metadata": {},
   "outputs": [],
   "source": [
    "Excel_1.YearsOfService >= 4"
   ]
  },
  {
   "cell_type": "code",
   "execution_count": null,
   "id": "dc1abcd2",
   "metadata": {},
   "outputs": [],
   "source": [
    "Excel_1[Excel_1.YearsOfService >= 4]"
   ]
  },
  {
   "cell_type": "code",
   "execution_count": null,
   "id": "a43bed2f",
   "metadata": {},
   "outputs": [],
   "source": [
    "Excel_1.Grade == 'a'"
   ]
  },
  {
   "cell_type": "code",
   "execution_count": null,
   "id": "8d327788",
   "metadata": {},
   "outputs": [],
   "source": [
    "Excel_1[Excel_1.Grade == 'a']"
   ]
  },
  {
   "cell_type": "code",
   "execution_count": null,
   "id": "7ba64407",
   "metadata": {},
   "outputs": [],
   "source": [
    "np.logical_and(Excel_1.YearsOfService >= 4 , Excel_1.Grade == 'a')"
   ]
  },
  {
   "cell_type": "code",
   "execution_count": null,
   "id": "e4f47b86",
   "metadata": {},
   "outputs": [],
   "source": [
    "Excel_1[np.logical_and(Excel_1.YearsOfService >= 4 , Excel_1.Grade == 'a')]"
   ]
  },
  {
   "cell_type": "code",
   "execution_count": null,
   "id": "b372eb18",
   "metadata": {},
   "outputs": [],
   "source": [
    " Excel_1['YearsOfService'] >= 4"
   ]
  },
  {
   "cell_type": "code",
   "execution_count": null,
   "id": "6f6cc7ff",
   "metadata": {},
   "outputs": [],
   "source": [
    "Excel_1[Excel_1['YearsOfService'] >= 4] "
   ]
  },
  {
   "cell_type": "code",
   "execution_count": null,
   "id": "0c1511ba",
   "metadata": {},
   "outputs": [],
   "source": [
    "Excel_1['Grade'] == 'a'"
   ]
  },
  {
   "cell_type": "code",
   "execution_count": null,
   "id": "d96a5869",
   "metadata": {},
   "outputs": [],
   "source": [
    "Excel_1[Excel_1['Grade'] == 'a']"
   ]
  },
  {
   "cell_type": "code",
   "execution_count": null,
   "id": "3b5b9e10",
   "metadata": {},
   "outputs": [],
   "source": [
    "np.logical_and(Excel_1['YearsOfService'] >= 4 , Excel_1['Grade'] == 'a')"
   ]
  },
  {
   "cell_type": "code",
   "execution_count": null,
   "id": "ac10b26d",
   "metadata": {},
   "outputs": [],
   "source": [
    "Excel_1[np.logical_and(Excel_1['YearsOfService'] >= 4 , Excel_1['Grade'] == 'a')]\n"
   ]
  },
  {
   "cell_type": "code",
   "execution_count": null,
   "id": "2b564ed3",
   "metadata": {},
   "outputs": [],
   "source": [
    "Excel_1.pop('Age')"
   ]
  },
  {
   "cell_type": "code",
   "execution_count": null,
   "id": "45256932",
   "metadata": {},
   "outputs": [],
   "source": [
    "Excel_1.pop('Grade')\n",
    "Excel_1"
   ]
  },
  {
   "cell_type": "code",
   "execution_count": null,
   "id": "2f75ad29",
   "metadata": {},
   "outputs": [],
   "source": [
    "del Excel_1['Department']\n",
    "Excel_1"
   ]
  },
  {
   "cell_type": "markdown",
   "id": "ed3f5d0a",
   "metadata": {},
   "source": [
    "### Handle Missing Values"
   ]
  },
  {
   "cell_type": "code",
   "execution_count": null,
   "id": "24549264",
   "metadata": {},
   "outputs": [],
   "source": [
    "df = pd.read_csv('surveys.csv')\n",
    "df.head()"
   ]
  },
  {
   "cell_type": "code",
   "execution_count": null,
   "id": "e91043a0",
   "metadata": {},
   "outputs": [],
   "source": [
    "df.info()"
   ]
  },
  {
   "cell_type": "markdown",
   "id": "24c5f92a",
   "metadata": {},
   "source": [
    "any : If any NA values are present, drop that row or column.\n",
    "\n",
    "all : If all values are NA, drop that row or column.\n",
    "\n",
    "thresh : Require that many non-NA values. Cannot be combined with how."
   ]
  },
  {
   "cell_type": "code",
   "execution_count": null,
   "id": "c4ffd637",
   "metadata": {},
   "outputs": [],
   "source": [
    "df_2 = df.dropna(how='any')\n",
    "df_2.head()"
   ]
  },
  {
   "cell_type": "code",
   "execution_count": null,
   "id": "da28029f",
   "metadata": {},
   "outputs": [],
   "source": [
    "df_2.info()"
   ]
  },
  {
   "cell_type": "code",
   "execution_count": null,
   "id": "472e3d54",
   "metadata": {},
   "outputs": [],
   "source": [
    "df_3 = df.dropna(how='all', subset=['weight', 'hindfoot_length'])\n",
    "df_3.head()"
   ]
  },
  {
   "cell_type": "code",
   "execution_count": null,
   "id": "898769f6",
   "metadata": {},
   "outputs": [],
   "source": [
    "df_3.info()"
   ]
  },
  {
   "cell_type": "code",
   "execution_count": null,
   "id": "7a1e6b5d",
   "metadata": {},
   "outputs": [],
   "source": [
    "df_4 = df.dropna(thresh=6)\n",
    "df_4.head()\n"
   ]
  },
  {
   "cell_type": "code",
   "execution_count": null,
   "id": "97ea5686",
   "metadata": {},
   "outputs": [],
   "source": [
    "df_4.info()"
   ]
  },
  {
   "cell_type": "code",
   "execution_count": null,
   "id": "c5c46af5",
   "metadata": {},
   "outputs": [],
   "source": [
    "df_5 = df.dropna(thresh=2, subset=['weight', 'hindfoot_length'])\n",
    "df_5.head()"
   ]
  },
  {
   "cell_type": "code",
   "execution_count": null,
   "id": "dc5f7ac8",
   "metadata": {},
   "outputs": [],
   "source": [
    "df_5.info()"
   ]
  },
  {
   "cell_type": "code",
   "execution_count": null,
   "id": "221557d8",
   "metadata": {},
   "outputs": [],
   "source": [
    "df = df.fillna(value='0')\n",
    "df"
   ]
  },
  {
   "cell_type": "code",
   "execution_count": null,
   "id": "8226cea7",
   "metadata": {},
   "outputs": [],
   "source": [
    "fill_value = {\"weight\": 0, \"hindfoot_length\": df['hindfoot_length'].mean(), \"sex\": df['sex'].mode().iloc[0], \"species_id\": df['species_id'].mode().iloc[0]}\n",
    "df_1 = df.fillna(value=fill_value,inplace=True)\n",
    "df"
   ]
  },
  {
   "cell_type": "code",
   "execution_count": null,
   "id": "9e1fa813",
   "metadata": {},
   "outputs": [],
   "source": [
    "fill_value = {\"weight\": 0, \"hindfoot_length\": df['hindfoot_length'].mean(), \"sex\": df['sex'].mode().iloc[0], \"species_id\": df['species_id'].mode().iloc[0]}\n",
    "df_1 = df.fillna(value=fill_value)\n",
    "df_1"
   ]
  },
  {
   "cell_type": "code",
   "execution_count": null,
   "id": "0f450fff",
   "metadata": {},
   "outputs": [],
   "source": [
    "df = pd.DataFrame(np.array(([1, 2, 3], [4, 5, 6])),\n",
    "                  index=['mouse', 'rabbit'],\n",
    "                  columns=['one', 'two', 'three'])\n",
    "df"
   ]
  },
  {
   "cell_type": "code",
   "execution_count": null,
   "id": "760e178b",
   "metadata": {},
   "outputs": [],
   "source": [
    "# select columns by name\n",
    "df.filter(items=['one', 'three'])"
   ]
  },
  {
   "cell_type": "code",
   "execution_count": null,
   "id": "f43fcfea",
   "metadata": {},
   "outputs": [],
   "source": [
    "df.filter(like='mouse',axis=0)"
   ]
  },
  {
   "cell_type": "code",
   "execution_count": null,
   "id": "618f3901",
   "metadata": {},
   "outputs": [],
   "source": [
    "df =  pd.DataFrame({\n",
    "    'col1': ['A', 'A', 'B', np.nan, 'D', 'C'],\n",
    "    'col2': [2, 1, 9, 8, 7, 4],\n",
    "    'col3': [0, 1, 9, 4, 2, 3],\n",
    "    'col4': ['a', 'B', 'c', 'D', 'e', 'F']\n",
    "})\n",
    "df.sort_index(ascending=False)"
   ]
  },
  {
   "cell_type": "code",
   "execution_count": null,
   "id": "916f9fa3",
   "metadata": {},
   "outputs": [],
   "source": [
    "df.sort_values(by=['col1'])"
   ]
  },
  {
   "cell_type": "code",
   "execution_count": null,
   "id": "62038fb1",
   "metadata": {},
   "outputs": [],
   "source": [
    "df.sort_values(by=['col1', 'col2'])"
   ]
  },
  {
   "cell_type": "code",
   "execution_count": null,
   "id": "39ad0a5b",
   "metadata": {},
   "outputs": [],
   "source": [
    "df.sort_values(by='col1', ascending=False)"
   ]
  },
  {
   "cell_type": "code",
   "execution_count": null,
   "id": "39b4f910",
   "metadata": {},
   "outputs": [],
   "source": [
    "## drop---> remove elements using drop\n",
    "df = pd.DataFrame(np.arange(12).reshape(3, 4), columns=['A', 'B', 'C', 'D'])\n",
    "df\n"
   ]
  },
  {
   "cell_type": "code",
   "execution_count": null,
   "id": "03fb805a",
   "metadata": {},
   "outputs": [],
   "source": [
    "df.drop('A', axis=1)"
   ]
  },
  {
   "cell_type": "code",
   "execution_count": null,
   "id": "8bfd909c",
   "metadata": {},
   "outputs": [],
   "source": [
    "df.drop([0,2], axis=0)"
   ]
  },
  {
   "cell_type": "code",
   "execution_count": null,
   "id": "f408af78",
   "metadata": {},
   "outputs": [],
   "source": [
    "df.drop(['C','D'] , axis=1)"
   ]
  },
  {
   "cell_type": "markdown",
   "id": "7ef83cdd",
   "metadata": {},
   "source": [
    "### Handle Duplicated Rows\n"
   ]
  },
  {
   "cell_type": "markdown",
   "id": "4ebffdd2",
   "metadata": {},
   "source": [
    "Return boolean Series denoting duplicate rows"
   ]
  },
  {
   "cell_type": "code",
   "execution_count": null,
   "id": "114d4879",
   "metadata": {},
   "outputs": [],
   "source": [
    "# duplicated\n",
    "df = pd.DataFrame({\n",
    "    'brand': ['Yum Yum', 'Yum Yum', 'Indomie', 'Indomie', 'Indomie'],\n",
    "    'style': ['cup', 'cup', 'cup', 'pack', 'pack'],\n",
    "    'rating': [4, 4, 3.5, 15, 5]\n",
    "})\n",
    "df"
   ]
  },
  {
   "cell_type": "code",
   "execution_count": null,
   "id": "37f2ef36",
   "metadata": {},
   "outputs": [],
   "source": [
    "df.duplicated()"
   ]
  },
  {
   "cell_type": "code",
   "execution_count": null,
   "id": "3b0ce561",
   "metadata": {},
   "outputs": [],
   "source": [
    "df[df.duplicated()]"
   ]
  },
  {
   "cell_type": "code",
   "execution_count": null,
   "id": "98febbff",
   "metadata": {},
   "outputs": [],
   "source": [
    "df.duplicated(keep='last')"
   ]
  },
  {
   "cell_type": "code",
   "execution_count": null,
   "id": "1bd8a5a3",
   "metadata": {},
   "outputs": [],
   "source": [
    "df[df.duplicated(keep='last')]"
   ]
  },
  {
   "cell_type": "code",
   "execution_count": null,
   "id": "a0ef2b4e",
   "metadata": {},
   "outputs": [],
   "source": [
    "df.duplicated(subset=['brand'])"
   ]
  },
  {
   "cell_type": "code",
   "execution_count": null,
   "id": "22b03e75",
   "metadata": {},
   "outputs": [],
   "source": [
    "df[df.duplicated(subset=['brand'])]"
   ]
  },
  {
   "cell_type": "code",
   "execution_count": null,
   "id": "313c055b",
   "metadata": {},
   "outputs": [],
   "source": [
    "df = df.drop_duplicates(subset=['brand'], ignore_index = True, keep='last')\n",
    "df"
   ]
  },
  {
   "cell_type": "markdown",
   "id": "26949c46",
   "metadata": {},
   "source": [
    "### Drop_duplicates\n"
   ]
  },
  {
   "cell_type": "markdown",
   "id": "dd41fef0",
   "metadata": {},
   "source": [
    "Return DataFrame with duplicate rows removed"
   ]
  },
  {
   "cell_type": "code",
   "execution_count": null,
   "id": "52f1df57",
   "metadata": {},
   "outputs": [],
   "source": [
    "df.drop_duplicates(subset=['brand'])\n"
   ]
  },
  {
   "cell_type": "code",
   "execution_count": null,
   "id": "ad623a94",
   "metadata": {},
   "outputs": [],
   "source": [
    "df.drop_duplicates(subset=['brand', 'style'], keep='last')\n"
   ]
  },
  {
   "cell_type": "markdown",
   "id": "60d498f9",
   "metadata": {},
   "source": [
    "### Get_dummies"
   ]
  },
  {
   "cell_type": "markdown",
   "id": "67c17d7c",
   "metadata": {},
   "source": [
    "Convert categorical variable into dummy/indicator variables.\n",
    "\n",
    "Each variable is converted in as many 0/1 variables as there are different values. Columns in the output are each named after a value; if the input is a DataFrame, the name of the original variable is prepended to the value."
   ]
  },
  {
   "cell_type": "code",
   "execution_count": null,
   "id": "9e0ee832",
   "metadata": {},
   "outputs": [],
   "source": [
    "df = pd.read_csv('surveys.csv')\n",
    "df.info()"
   ]
  },
  {
   "cell_type": "code",
   "execution_count": null,
   "id": "1364044b",
   "metadata": {},
   "outputs": [],
   "source": [
    "df"
   ]
  },
  {
   "cell_type": "code",
   "execution_count": null,
   "id": "334b7f0a",
   "metadata": {},
   "outputs": [],
   "source": [
    "pd.get_dummies(df['sex'])"
   ]
  },
  {
   "cell_type": "code",
   "execution_count": null,
   "id": "13bc5b6f",
   "metadata": {},
   "outputs": [],
   "source": [
    "pd.get_dummies(df[['sex', 'year']])"
   ]
  },
  {
   "cell_type": "markdown",
   "id": "3b953060",
   "metadata": {},
   "source": [
    "### Concat"
   ]
  },
  {
   "cell_type": "markdown",
   "id": "47079ec5",
   "metadata": {},
   "source": [
    "Concatenate pandas objects along a particular axis."
   ]
  },
  {
   "cell_type": "code",
   "execution_count": null,
   "id": "f0a19173",
   "metadata": {},
   "outputs": [],
   "source": [
    "s1 = pd.Series(['a', 'b'])\n",
    "s2 = pd.Series(['c', 'd'])\n",
    "pd.concat([s1, s2])"
   ]
  },
  {
   "cell_type": "code",
   "execution_count": null,
   "id": "a4c83078",
   "metadata": {},
   "outputs": [],
   "source": [
    "pd.concat([s1, s2], ignore_index=True)"
   ]
  },
  {
   "cell_type": "code",
   "execution_count": null,
   "id": "1ebb1f60",
   "metadata": {},
   "outputs": [],
   "source": [
    "pd.concat([s1, s2], keys=['s1', 's2'],\n",
    "          names=['Series name', 'Row ID'])"
   ]
  },
  {
   "cell_type": "code",
   "execution_count": null,
   "id": "14509e61",
   "metadata": {},
   "outputs": [],
   "source": [
    "df1 = pd.DataFrame([['a', 1], ['b', 2]],\n",
    "                   columns=['letter', 'number'])\n",
    "df1 "
   ]
  },
  {
   "cell_type": "code",
   "execution_count": null,
   "id": "fd3f8c42",
   "metadata": {},
   "outputs": [],
   "source": [
    "df2 = pd.DataFrame([['c', 3], ['d', 4]],\n",
    "                   columns=['letter', 'number'])\n",
    "df2"
   ]
  },
  {
   "cell_type": "code",
   "execution_count": null,
   "id": "e63f7d52",
   "metadata": {},
   "outputs": [],
   "source": [
    "df3 = pd.DataFrame([['c', 3, 'cat'], ['d', 4, 'dog']],\n",
    "                   columns=['letter', 'number', 'animal'])\n",
    "df3"
   ]
  },
  {
   "cell_type": "code",
   "execution_count": null,
   "id": "22d5a85a",
   "metadata": {},
   "outputs": [],
   "source": [
    "pd.concat([df1, df2], sort=False,ignore_index=True)"
   ]
  },
  {
   "cell_type": "code",
   "execution_count": null,
   "id": "a9d3883c",
   "metadata": {},
   "outputs": [],
   "source": [
    "pd.concat([df1, df3], sort=False,ignore_index=True)"
   ]
  },
  {
   "cell_type": "code",
   "execution_count": null,
   "id": "bf48181c",
   "metadata": {},
   "outputs": [],
   "source": [
    "pd.concat([df2, df3], sort=False,ignore_index=True)"
   ]
  },
  {
   "cell_type": "markdown",
   "id": "33d2b7de",
   "metadata": {},
   "source": [
    "### Replace"
   ]
  },
  {
   "cell_type": "markdown",
   "id": "fb457aab",
   "metadata": {},
   "source": [
    "Values of the DataFrame are replaced with other values dynamically"
   ]
  },
  {
   "cell_type": "code",
   "execution_count": null,
   "id": "175a85ec",
   "metadata": {},
   "outputs": [],
   "source": [
    "df = pd.DataFrame({ \n",
    "                    \"Name\": [\"Ahmed\", \"Mahmoud\", \"Moustafa\", \"Mohamed\", \"Yassin\", \"Abd el Rahman\", \"Emam\", \"Nabil\", \"Saad\"],   \n",
    "                    \"Score\": [\"Low\", \"Low\", \"Medium\", \"Medium\", \"High\", \"Low\", \"Medium\",\"High\", \"Low\"],\n",
    "                    \"Age\": [33, 34, 27, 3, 1, 32, 34, 36, 33]\n",
    "                })\n",
    "df"
   ]
  },
  {
   "cell_type": "code",
   "execution_count": null,
   "id": "d7b5f841",
   "metadata": {},
   "outputs": [],
   "source": [
    "ordinal_encoding_mapping = {\"Low\":1, \"Medium\":2, \"High\":3}\n",
    "df[\"Score\"] = df[\"Score\"].replace(ordinal_encoding_mapping)\n",
    "df"
   ]
  },
  {
   "cell_type": "code",
   "execution_count": null,
   "id": "b31180df",
   "metadata": {},
   "outputs": [],
   "source": [
    "df.info()"
   ]
  },
  {
   "cell_type": "code",
   "execution_count": null,
   "id": "1ccd7832",
   "metadata": {},
   "outputs": [],
   "source": [
    "df['Score'].astype('S')"
   ]
  },
  {
   "cell_type": "code",
   "execution_count": null,
   "id": "b2805cd1",
   "metadata": {},
   "outputs": [],
   "source": [
    "df.info()"
   ]
  },
  {
   "cell_type": "markdown",
   "id": "430bc713",
   "metadata": {},
   "source": [
    "### Normalization"
   ]
  },
  {
   "cell_type": "markdown",
   "id": "dfaf5743",
   "metadata": {},
   "source": [
    "DataFrame in pandas where each column has different value range"
   ]
  },
  {
   "cell_type": "code",
   "execution_count": null,
   "id": "979b9388",
   "metadata": {},
   "outputs": [],
   "source": [
    "df = pd.read_csv('surveys1.csv', index_col=0)\n",
    "df"
   ]
  },
  {
   "cell_type": "code",
   "execution_count": null,
   "id": "891a9206",
   "metadata": {},
   "outputs": [],
   "source": [
    "normalized_df=(df-df.min())/(df.max()-df.min())\n",
    "normalized_df"
   ]
  },
  {
   "cell_type": "markdown",
   "id": "e21bdec9",
   "metadata": {},
   "source": [
    "### Discretization"
   ]
  },
  {
   "cell_type": "code",
   "execution_count": null,
   "id": "b1b4a4ff",
   "metadata": {},
   "outputs": [],
   "source": [
    "df = pd.read_csv('surveys1.csv', index_col=0)\n",
    "df"
   ]
  },
  {
   "cell_type": "code",
   "execution_count": null,
   "id": "1b0f7c92",
   "metadata": {},
   "outputs": [],
   "source": [
    "pd.get_dummies(\n",
    "    pd.cut(df['weight'], 8, \n",
    "       labels=['weight_range1', 'weight_range2', 'weight_range3', 'weight_range4', \n",
    "               'weight_range5', 'weight_range6', 'weight_range7', 'weight_range8'])\n",
    ")"
   ]
  },
  {
   "cell_type": "markdown",
   "id": "7c605d05",
   "metadata": {},
   "source": [
    "### Grouping"
   ]
  },
  {
   "cell_type": "markdown",
   "id": "e4f60b8f",
   "metadata": {},
   "source": [
    "\n",
    "one or more of the following steps:\n",
    "\n",
    "Splitting the data into groups based on some criteria\n",
    "\n",
    "Applying a function to each group independently\n",
    "\n",
    "Combining the results into a data structure"
   ]
  },
  {
   "cell_type": "code",
   "execution_count": null,
   "id": "1f10b383",
   "metadata": {},
   "outputs": [],
   "source": [
    "df = pd.read_excel('employees.xlsx', 'Sheet1')\n",
    "df"
   ]
  },
  {
   "cell_type": "code",
   "execution_count": null,
   "id": "6431e401",
   "metadata": {},
   "outputs": [],
   "source": [
    "df.groupby('Department') "
   ]
  },
  {
   "cell_type": "code",
   "execution_count": null,
   "id": "8b5cc67d",
   "metadata": {},
   "outputs": [],
   "source": [
    "df.groupby('Department').sum()"
   ]
  },
  {
   "cell_type": "code",
   "execution_count": null,
   "id": "49e67764",
   "metadata": {},
   "outputs": [],
   "source": [
    "df.groupby('YearsOfService').sum()"
   ]
  },
  {
   "cell_type": "code",
   "execution_count": null,
   "id": "3f6672c7",
   "metadata": {},
   "outputs": [],
   "source": [
    "df.groupby('YearsOfService').count()"
   ]
  },
  {
   "cell_type": "code",
   "execution_count": null,
   "id": "f1e797a4",
   "metadata": {},
   "outputs": [],
   "source": [
    "employees_df.groupby('Grade')['Age'].max()"
   ]
  }
 ],
 "metadata": {
  "kernelspec": {
   "display_name": "Python 3 (ipykernel)",
   "language": "python",
   "name": "python3"
  },
  "language_info": {
   "codemirror_mode": {
    "name": "ipython",
    "version": 3
   },
   "file_extension": ".py",
   "mimetype": "text/x-python",
   "name": "python",
   "nbconvert_exporter": "python",
   "pygments_lexer": "ipython3",
   "version": "3.9.13"
  }
 },
 "nbformat": 4,
 "nbformat_minor": 5
}
