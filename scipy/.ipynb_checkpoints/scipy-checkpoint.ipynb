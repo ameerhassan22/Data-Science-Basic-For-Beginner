{
 "cells": [
  {
   "cell_type": "markdown",
   "id": "82fc78a1",
   "metadata": {},
   "source": [
    "# SciPy Library\n"
   ]
  },
  {
   "cell_type": "markdown",
   "id": "ed7b4dd5",
   "metadata": {},
   "source": [
    "collection of mathematical algorithms and convenience functions built on NumPy"
   ]
  },
  {
   "cell_type": "markdown",
   "id": "60791a77",
   "metadata": {},
   "source": [
    "### Install Scipy"
   ]
  },
  {
   "cell_type": "markdown",
   "id": "6edff33c",
   "metadata": {},
   "source": [
    "If you already have Python, you can install Scipy with:\n",
    "\n",
    "conda install scipy or pip install scipy"
   ]
  },
  {
   "cell_type": "markdown",
   "id": "bffee749",
   "metadata": {},
   "source": [
    "### Import Scipy"
   ]
  },
  {
   "cell_type": "code",
   "execution_count": 1,
   "id": "c697d071",
   "metadata": {},
   "outputs": [],
   "source": [
    "import scipy as sp"
   ]
  },
  {
   "cell_type": "markdown",
   "id": "521f6954",
   "metadata": {},
   "source": [
    "### Constants \n"
   ]
  },
  {
   "cell_type": "markdown",
   "id": "a879ffaa",
   "metadata": {},
   "source": [
    "Physical and mathematical constants and units"
   ]
  },
  {
   "cell_type": "code",
   "execution_count": 2,
   "id": "bfd0d03f",
   "metadata": {},
   "outputs": [],
   "source": [
    "from scipy import constants"
   ]
  },
  {
   "cell_type": "markdown",
   "id": "8429b5b4",
   "metadata": {},
   "source": [
    "### value\n"
   ]
  },
  {
   "cell_type": "markdown",
   "id": "45ed6cd5",
   "metadata": {},
   "source": [
    "Value in physical_constants indexed by key"
   ]
  },
  {
   "cell_type": "markdown",
   "id": "b512a47e",
   "metadata": {},
   "source": [
    "### unit "
   ]
  },
  {
   "cell_type": "markdown",
   "id": "e6057e52",
   "metadata": {},
   "source": [
    "Unit in physical_constants indexed by key"
   ]
  },
  {
   "cell_type": "code",
   "execution_count": 3,
   "id": "84d3483c",
   "metadata": {},
   "outputs": [
    {
     "name": "stdout",
     "output_type": "stream",
     "text": [
      "Help on function value in module scipy.constants._codata:\n",
      "\n",
      "value(key: 'str') -> 'float'\n",
      "    Value in physical_constants indexed by key\n",
      "    \n",
      "    Parameters\n",
      "    ----------\n",
      "    key : Python string or unicode\n",
      "        Key in dictionary `physical_constants`\n",
      "    \n",
      "    Returns\n",
      "    -------\n",
      "    value : float\n",
      "        Value in `physical_constants` corresponding to `key`\n",
      "    \n",
      "    Examples\n",
      "    --------\n",
      "    >>> from scipy import constants\n",
      "    >>> constants.value(u'elementary charge')\n",
      "    1.602176634e-19\n",
      "\n"
     ]
    }
   ],
   "source": [
    "help(constants.value)"
   ]
  },
  {
   "cell_type": "code",
   "execution_count": 4,
   "id": "ee57aac9",
   "metadata": {},
   "outputs": [
    {
     "name": "stdout",
     "output_type": "stream",
     "text": [
      "Help on function unit in module scipy.constants._codata:\n",
      "\n",
      "unit(key: 'str') -> 'str'\n",
      "    Unit in physical_constants indexed by key\n",
      "    \n",
      "    Parameters\n",
      "    ----------\n",
      "    key : Python string or unicode\n",
      "        Key in dictionary `physical_constants`\n",
      "    \n",
      "    Returns\n",
      "    -------\n",
      "    unit : Python string\n",
      "        Unit in `physical_constants` corresponding to `key`\n",
      "    \n",
      "    Examples\n",
      "    --------\n",
      "    >>> from scipy import constants\n",
      "    >>> constants.unit(u'proton mass')\n",
      "    'kg'\n",
      "\n"
     ]
    }
   ],
   "source": [
    "help(constants.unit)"
   ]
  },
  {
   "cell_type": "markdown",
   "id": "fa0e1636",
   "metadata": {},
   "source": [
    "### Mathematical and Physical constants"
   ]
  },
  {
   "cell_type": "code",
   "execution_count": 5,
   "id": "696f147d",
   "metadata": {},
   "outputs": [
    {
     "data": {
      "text/plain": [
       "1.602176634e-19"
      ]
     },
     "execution_count": 5,
     "metadata": {},
     "output_type": "execute_result"
    }
   ],
   "source": [
    "## proton charge\n",
    "## p = 1.602176634×10−19 kilograms \n",
    "constants.value('elementary charge')"
   ]
  },
  {
   "cell_type": "code",
   "execution_count": 6,
   "id": "e8850bb8",
   "metadata": {},
   "outputs": [
    {
     "data": {
      "text/plain": [
       "'kg'"
      ]
     },
     "execution_count": 6,
     "metadata": {},
     "output_type": "execute_result"
    }
   ],
   "source": [
    "## proton mass unit\n",
    "constants.unit('proton mass')"
   ]
  },
  {
   "cell_type": "code",
   "execution_count": 7,
   "id": "05d6332a",
   "metadata": {},
   "outputs": [
    {
     "data": {
      "text/plain": [
       "9.1093837015e-31"
      ]
     },
     "execution_count": 7,
     "metadata": {},
     "output_type": "execute_result"
    }
   ],
   "source": [
    "## electron charge\n",
    "## e = 9.10938356 × 10-31 kilograms\n",
    "constants.value('electron mass')"
   ]
  },
  {
   "cell_type": "code",
   "execution_count": 8,
   "id": "3f8f9491",
   "metadata": {},
   "outputs": [
    {
     "data": {
      "text/plain": [
       "'kg'"
      ]
     },
     "execution_count": 8,
     "metadata": {},
     "output_type": "execute_result"
    }
   ],
   "source": [
    "## electron mass unit\n",
    "constants.unit('electron mass')"
   ]
  },
  {
   "cell_type": "code",
   "execution_count": 9,
   "id": "54b56710",
   "metadata": {},
   "outputs": [
    {
     "data": {
      "text/plain": [
       "1.6605390666e-27"
      ]
     },
     "execution_count": 9,
     "metadata": {},
     "output_type": "execute_result"
    }
   ],
   "source": [
    "## atomic charge\n",
    "## a = 1.6605390666e-27 kilograms\n",
    "constants.value('atomic mass constant')"
   ]
  },
  {
   "cell_type": "code",
   "execution_count": 10,
   "id": "6010de5a",
   "metadata": {},
   "outputs": [
    {
     "data": {
      "text/plain": [
       "1.67492749804e-27"
      ]
     },
     "execution_count": 10,
     "metadata": {},
     "output_type": "execute_result"
    }
   ],
   "source": [
    "## neutron charge\n",
    "## n = 1.67492749804e-27 kilograms\n",
    "constants.value('neutron mass')"
   ]
  },
  {
   "cell_type": "code",
   "execution_count": 11,
   "id": "8e99f0d7",
   "metadata": {},
   "outputs": [
    {
     "data": {
      "text/plain": [
       "'kg'"
      ]
     },
     "execution_count": 11,
     "metadata": {},
     "output_type": "execute_result"
    }
   ],
   "source": [
    "## neutron mass unit\n",
    "constants.unit('neutron mass')"
   ]
  },
  {
   "cell_type": "code",
   "execution_count": 12,
   "id": "6ca017fe",
   "metadata": {},
   "outputs": [
    {
     "data": {
      "text/plain": [
       "101325.0"
      ]
     },
     "execution_count": 12,
     "metadata": {},
     "output_type": "execute_result"
    }
   ],
   "source": [
    "## standard atmosphere value \n",
    "## ap = 101325 \n",
    "constants.value('standard atmosphere')"
   ]
  },
  {
   "cell_type": "code",
   "execution_count": 13,
   "id": "3f5f8278",
   "metadata": {},
   "outputs": [
    {
     "data": {
      "text/plain": [
       "'Pa'"
      ]
     },
     "execution_count": 13,
     "metadata": {},
     "output_type": "execute_result"
    }
   ],
   "source": [
    "## standard atmosphere unit \n",
    "## ap = 101325 Pa\n",
    "constants.unit('standard atmosphere')"
   ]
  },
  {
   "cell_type": "code",
   "execution_count": 14,
   "id": "cf8fffc7",
   "metadata": {},
   "outputs": [
    {
     "data": {
      "text/plain": [
       "6.62607015e-34"
      ]
     },
     "execution_count": 14,
     "metadata": {},
     "output_type": "execute_result"
    }
   ],
   "source": [
    "## Planck constant value \n",
    "## ap = 6.62607015e-34 \n",
    "constants.value('Planck constant')"
   ]
  },
  {
   "cell_type": "code",
   "execution_count": 15,
   "id": "662a0331",
   "metadata": {},
   "outputs": [
    {
     "data": {
      "text/plain": [
       "6.6743e-11"
      ]
     },
     "execution_count": 15,
     "metadata": {},
     "output_type": "execute_result"
    }
   ],
   "source": [
    "## Newtonian constant of gravitation value\n",
    "## G = 6.6743e-11\n",
    "constants.value('Newtonian constant of gravitation')"
   ]
  },
  {
   "cell_type": "code",
   "execution_count": 16,
   "id": "f8c6ea07",
   "metadata": {},
   "outputs": [
    {
     "data": {
      "text/plain": [
       "'m^3 kg^-1 s^-2'"
      ]
     },
     "execution_count": 16,
     "metadata": {},
     "output_type": "execute_result"
    }
   ],
   "source": [
    "## Newtonian constant of gravitation unit\n",
    "## G = 6.6743e-11 m^3 kg^-1 s^-2\n",
    "constants.unit('Newtonian constant of gravitation')"
   ]
  },
  {
   "cell_type": "markdown",
   "id": "2997e6e6",
   "metadata": {},
   "source": [
    "### find"
   ]
  },
  {
   "cell_type": "markdown",
   "id": "69d75533",
   "metadata": {},
   "source": [
    "Return list of physical_constant keys containing a given string"
   ]
  },
  {
   "cell_type": "code",
   "execution_count": 17,
   "id": "2e208ef5",
   "metadata": {},
   "outputs": [
    {
     "data": {
      "text/plain": [
       "['Boltzmann constant',\n",
       " 'Boltzmann constant in Hz/K',\n",
       " 'Boltzmann constant in eV/K',\n",
       " 'Boltzmann constant in inverse meter per kelvin',\n",
       " 'Stefan-Boltzmann constant']"
      ]
     },
     "execution_count": 17,
     "metadata": {},
     "output_type": "execute_result"
    }
   ],
   "source": [
    "from scipy.constants import find, physical_constants\n",
    "find('boltzmann')"
   ]
  },
  {
   "cell_type": "code",
   "execution_count": 18,
   "id": "34520470",
   "metadata": {},
   "outputs": [
    {
     "data": {
      "text/plain": [
       "['Compton wavelength',\n",
       " 'Wien wavelength displacement law constant',\n",
       " 'alpha particle-electron mass ratio',\n",
       " 'atomic mass unit-electron volt relationship',\n",
       " 'atomic unit of electric dipole mom.',\n",
       " 'atomic unit of electric field',\n",
       " 'atomic unit of electric field gradient',\n",
       " 'atomic unit of electric polarizability',\n",
       " 'atomic unit of electric potential',\n",
       " 'atomic unit of electric quadrupole mom.',\n",
       " 'classical electron radius',\n",
       " 'deuteron-electron mag. mom. ratio',\n",
       " 'deuteron-electron mass ratio',\n",
       " 'electron charge to mass quotient',\n",
       " 'electron g factor',\n",
       " 'electron gyromag. ratio',\n",
       " 'electron gyromag. ratio in MHz/T',\n",
       " 'electron mag. mom.',\n",
       " 'electron mag. mom. anomaly',\n",
       " 'electron mag. mom. to Bohr magneton ratio',\n",
       " 'electron mag. mom. to nuclear magneton ratio',\n",
       " 'electron mass',\n",
       " 'electron mass energy equivalent',\n",
       " 'electron mass energy equivalent in MeV',\n",
       " 'electron mass in u',\n",
       " 'electron molar mass',\n",
       " 'electron relative atomic mass',\n",
       " 'electron to alpha particle mass ratio',\n",
       " 'electron to shielded helion mag. mom. ratio',\n",
       " 'electron to shielded proton mag. mom. ratio',\n",
       " 'electron volt',\n",
       " 'electron volt-atomic mass unit relationship',\n",
       " 'electron volt-hartree relationship',\n",
       " 'electron volt-hertz relationship',\n",
       " 'electron volt-inverse meter relationship',\n",
       " 'electron volt-joule relationship',\n",
       " 'electron volt-kelvin relationship',\n",
       " 'electron volt-kilogram relationship',\n",
       " 'electron-deuteron mag. mom. ratio',\n",
       " 'electron-deuteron mass ratio',\n",
       " 'electron-helion mass ratio',\n",
       " 'electron-muon mag. mom. ratio',\n",
       " 'electron-muon mass ratio',\n",
       " 'electron-neutron mag. mom. ratio',\n",
       " 'electron-neutron mass ratio',\n",
       " 'electron-proton mag. mom. ratio',\n",
       " 'electron-proton mass ratio',\n",
       " 'electron-tau mass ratio',\n",
       " 'electron-triton mass ratio',\n",
       " 'elementary charge',\n",
       " 'elementary charge over h-bar',\n",
       " 'hartree-electron volt relationship',\n",
       " 'helion-electron mass ratio',\n",
       " 'hertz-electron volt relationship',\n",
       " 'inverse meter-electron volt relationship',\n",
       " 'joule-electron volt relationship',\n",
       " 'kelvin-electron volt relationship',\n",
       " 'kilogram-electron volt relationship',\n",
       " 'muon Compton wavelength',\n",
       " 'muon-electron mass ratio',\n",
       " 'neutron Compton wavelength',\n",
       " 'neutron-electron mag. mom. ratio',\n",
       " 'neutron-electron mass ratio',\n",
       " 'proton Compton wavelength',\n",
       " 'proton-electron mass ratio',\n",
       " 'reduced Compton wavelength',\n",
       " 'reduced muon Compton wavelength',\n",
       " 'reduced neutron Compton wavelength',\n",
       " 'reduced proton Compton wavelength',\n",
       " 'reduced tau Compton wavelength',\n",
       " 'standard acceleration of gravity',\n",
       " 'tau Compton wavelength',\n",
       " 'tau-electron mass ratio',\n",
       " 'triton-electron mass ratio',\n",
       " 'vacuum electric permittivity']"
      ]
     },
     "execution_count": 18,
     "metadata": {},
     "output_type": "execute_result"
    }
   ],
   "source": [
    "find('ele')"
   ]
  },
  {
   "cell_type": "markdown",
   "id": "1d32af07",
   "metadata": {},
   "source": [
    "### convert_temperature \n"
   ]
  },
  {
   "cell_type": "markdown",
   "id": "0e78bb61",
   "metadata": {},
   "source": [
    "Convert from a temperature scale to another one among Celsius, Kelvin, Fahrenheit, and Rankine scales"
   ]
  },
  {
   "cell_type": "code",
   "execution_count": 19,
   "id": "2e3793a8",
   "metadata": {},
   "outputs": [],
   "source": [
    "from scipy.constants import convert_temperature\n",
    "import numpy as np"
   ]
  },
  {
   "cell_type": "code",
   "execution_count": 20,
   "id": "94dc293b",
   "metadata": {},
   "outputs": [
    {
     "data": {
      "text/plain": [
       "array([233.15, 313.15])"
      ]
     },
     "execution_count": 20,
     "metadata": {},
     "output_type": "execute_result"
    }
   ],
   "source": [
    "tmp = convert_temperature(np.array([-40, 40]), 'Celsius', 'Kelvin')\n",
    "tmp"
   ]
  },
  {
   "cell_type": "markdown",
   "id": "8a388e1a",
   "metadata": {},
   "source": [
    "### Linear Algebra \" scipy.linalg \""
   ]
  },
  {
   "cell_type": "code",
   "execution_count": 21,
   "id": "552d5bb6",
   "metadata": {},
   "outputs": [
    {
     "data": {
      "text/plain": [
       "matrix([[1, 2],\n",
       "        [3, 4]])"
      ]
     },
     "execution_count": 21,
     "metadata": {},
     "output_type": "execute_result"
    }
   ],
   "source": [
    "import numpy as np\n",
    "A = np.mat('[1 2;3 4]')\n",
    "A"
   ]
  },
  {
   "cell_type": "code",
   "execution_count": 22,
   "id": "35c21d49",
   "metadata": {},
   "outputs": [
    {
     "data": {
      "text/plain": [
       "matrix([[-2. ,  1. ],\n",
       "        [ 1.5, -0.5]])"
      ]
     },
     "execution_count": 22,
     "metadata": {},
     "output_type": "execute_result"
    }
   ],
   "source": [
    "A.I"
   ]
  },
  {
   "cell_type": "code",
   "execution_count": 23,
   "id": "91bf4bfd",
   "metadata": {},
   "outputs": [
    {
     "data": {
      "text/plain": [
       "matrix([[5, 6]])"
      ]
     },
     "execution_count": 23,
     "metadata": {},
     "output_type": "execute_result"
    }
   ],
   "source": [
    "B = np.mat('[5 6]')\n",
    "B"
   ]
  },
  {
   "cell_type": "code",
   "execution_count": 24,
   "id": "5eeec109",
   "metadata": {},
   "outputs": [
    {
     "data": {
      "text/plain": [
       "matrix([[5],\n",
       "        [6]])"
      ]
     },
     "execution_count": 24,
     "metadata": {},
     "output_type": "execute_result"
    }
   ],
   "source": [
    "B.T"
   ]
  },
  {
   "cell_type": "code",
   "execution_count": 25,
   "id": "7f6079c0",
   "metadata": {},
   "outputs": [
    {
     "data": {
      "text/plain": [
       "matrix([[17],\n",
       "        [39]])"
      ]
     },
     "execution_count": 25,
     "metadata": {},
     "output_type": "execute_result"
    }
   ],
   "source": [
    "A*B.T"
   ]
  },
  {
   "cell_type": "code",
   "execution_count": 26,
   "id": "bb80c71b",
   "metadata": {},
   "outputs": [
    {
     "data": {
      "text/plain": [
       "array([[1, 2],\n",
       "       [3, 4]])"
      ]
     },
     "execution_count": 26,
     "metadata": {},
     "output_type": "execute_result"
    }
   ],
   "source": [
    "import numpy as np\n",
    "from scipy import linalg\n",
    "A = np.array([[1,2],[3,4]])\n",
    "A"
   ]
  },
  {
   "cell_type": "code",
   "execution_count": 27,
   "id": "d1eb6d5a",
   "metadata": {},
   "outputs": [
    {
     "data": {
      "text/plain": [
       "array([[-2. ,  1. ],\n",
       "       [ 1.5, -0.5]])"
      ]
     },
     "execution_count": 27,
     "metadata": {},
     "output_type": "execute_result"
    }
   ],
   "source": [
    "linalg.inv(A)"
   ]
  },
  {
   "cell_type": "code",
   "execution_count": 28,
   "id": "e8522db8",
   "metadata": {},
   "outputs": [
    {
     "data": {
      "text/plain": [
       "array([[5, 6]])"
      ]
     },
     "execution_count": 28,
     "metadata": {},
     "output_type": "execute_result"
    }
   ],
   "source": [
    "B = np.array([[5,6]])\n",
    "B"
   ]
  },
  {
   "cell_type": "code",
   "execution_count": 29,
   "id": "e846bd2e",
   "metadata": {},
   "outputs": [
    {
     "data": {
      "text/plain": [
       "array([[5],\n",
       "       [6]])"
      ]
     },
     "execution_count": 29,
     "metadata": {},
     "output_type": "execute_result"
    }
   ],
   "source": [
    "B.T"
   ]
  },
  {
   "cell_type": "code",
   "execution_count": 30,
   "id": "ba07cf13",
   "metadata": {},
   "outputs": [
    {
     "data": {
      "text/plain": [
       "array([[ 5, 12],\n",
       "       [15, 24]])"
      ]
     },
     "execution_count": 30,
     "metadata": {},
     "output_type": "execute_result"
    }
   ],
   "source": [
    "A*B"
   ]
  },
  {
   "cell_type": "code",
   "execution_count": 31,
   "id": "3871f036",
   "metadata": {},
   "outputs": [
    {
     "data": {
      "text/plain": [
       "array([[17],\n",
       "       [39]])"
      ]
     },
     "execution_count": 31,
     "metadata": {},
     "output_type": "execute_result"
    }
   ],
   "source": [
    "A.dot(B.T)"
   ]
  },
  {
   "cell_type": "code",
   "execution_count": 32,
   "id": "af4c928f",
   "metadata": {},
   "outputs": [
    {
     "data": {
      "text/plain": [
       "array([[1, 3, 5],\n",
       "       [2, 5, 1],\n",
       "       [2, 3, 8]])"
      ]
     },
     "execution_count": 32,
     "metadata": {},
     "output_type": "execute_result"
    }
   ],
   "source": [
    "X = np.array([[1,3,5],[2,5,1],[2,3,8]])\n",
    "X"
   ]
  },
  {
   "cell_type": "code",
   "execution_count": 33,
   "id": "dd06a461",
   "metadata": {},
   "outputs": [
    {
     "data": {
      "text/plain": [
       "array([[-1.48,  0.36,  0.88],\n",
       "       [ 0.56,  0.08, -0.36],\n",
       "       [ 0.16, -0.12,  0.04]])"
      ]
     },
     "execution_count": 33,
     "metadata": {},
     "output_type": "execute_result"
    }
   ],
   "source": [
    "linalg.inv(X)"
   ]
  },
  {
   "cell_type": "code",
   "execution_count": 34,
   "id": "b90206ff",
   "metadata": {},
   "outputs": [
    {
     "data": {
      "text/plain": [
       "array([[ 1.00000000e+00, -1.11022302e-16, -6.24500451e-17],\n",
       "       [ 3.05311332e-16,  1.00000000e+00,  1.87350135e-16],\n",
       "       [ 2.22044605e-16, -1.11022302e-16,  1.00000000e+00]])"
      ]
     },
     "execution_count": 34,
     "metadata": {},
     "output_type": "execute_result"
    }
   ],
   "source": [
    "X.dot(linalg.inv(X))"
   ]
  },
  {
   "cell_type": "markdown",
   "id": "9b4c1427",
   "metadata": {},
   "source": [
    "#### Solving a linear system"
   ]
  },
  {
   "cell_type": "markdown",
   "id": "3e1d7a5d",
   "metadata": {},
   "source": [
    "solve two equation \n",
    " \n",
    " x + 2y = 5\n",
    " \n",
    " 3x + 4y = 6"
   ]
  },
  {
   "cell_type": "code",
   "execution_count": 35,
   "id": "f995ca70",
   "metadata": {},
   "outputs": [
    {
     "data": {
      "text/plain": [
       "array([[1, 2],\n",
       "       [3, 4]])"
      ]
     },
     "execution_count": 35,
     "metadata": {},
     "output_type": "execute_result"
    }
   ],
   "source": [
    "a = np.array([[1, 2], [3, 4]])\n",
    "a"
   ]
  },
  {
   "cell_type": "code",
   "execution_count": 36,
   "id": "6e9b3aac",
   "metadata": {},
   "outputs": [
    {
     "data": {
      "text/plain": [
       "array([[5],\n",
       "       [6]])"
      ]
     },
     "execution_count": 36,
     "metadata": {},
     "output_type": "execute_result"
    }
   ],
   "source": [
    "b = np.array([[5], [6]])\n",
    "b"
   ]
  },
  {
   "cell_type": "code",
   "execution_count": 37,
   "id": "eab895bf",
   "metadata": {},
   "outputs": [
    {
     "data": {
      "text/plain": [
       "array([[-4. ],\n",
       "       [ 4.5]])"
      ]
     },
     "execution_count": 37,
     "metadata": {},
     "output_type": "execute_result"
    }
   ],
   "source": [
    "linalg.inv(a).dot(b) "
   ]
  },
  {
   "cell_type": "code",
   "execution_count": 38,
   "id": "3f1f20a5",
   "metadata": {},
   "outputs": [
    {
     "data": {
      "text/plain": [
       "array([[-4. ],\n",
       "       [ 4.5]])"
      ]
     },
     "execution_count": 38,
     "metadata": {},
     "output_type": "execute_result"
    }
   ],
   "source": [
    "np.linalg.solve(a, b)"
   ]
  },
  {
   "cell_type": "markdown",
   "id": "e32e863d",
   "metadata": {},
   "source": [
    "solve three equation \n",
    "\n",
    "x + 3y + 5z = 10\n",
    "\n",
    "2x + 5y + z = 8\n",
    "\n",
    "2x + 3y + 8z = 3"
   ]
  },
  {
   "cell_type": "code",
   "execution_count": 39,
   "id": "5818c1fe",
   "metadata": {},
   "outputs": [
    {
     "data": {
      "text/plain": [
       "array([[1, 3, 5],\n",
       "       [2, 5, 1],\n",
       "       [2, 3, 8]])"
      ]
     },
     "execution_count": 39,
     "metadata": {},
     "output_type": "execute_result"
    }
   ],
   "source": [
    "A = np.array([1,3,5,2,5,1,2,3,8]).reshape(3,3)\n",
    "A"
   ]
  },
  {
   "cell_type": "code",
   "execution_count": 40,
   "id": "6f6d4b57",
   "metadata": {},
   "outputs": [
    {
     "data": {
      "text/plain": [
       "array([[10],\n",
       "       [ 8],\n",
       "       [ 3]])"
      ]
     },
     "execution_count": 40,
     "metadata": {},
     "output_type": "execute_result"
    }
   ],
   "source": [
    "B = np.array([10,8,3]).reshape(3,1)\n",
    "B"
   ]
  },
  {
   "cell_type": "code",
   "execution_count": 41,
   "id": "b2bc4609",
   "metadata": {},
   "outputs": [
    {
     "data": {
      "text/plain": [
       "array([[-9.28],\n",
       "       [ 5.16],\n",
       "       [ 0.76]])"
      ]
     },
     "execution_count": 41,
     "metadata": {},
     "output_type": "execute_result"
    }
   ],
   "source": [
    "z = np.linalg.solve(A,B)\n",
    "z"
   ]
  },
  {
   "cell_type": "code",
   "execution_count": 42,
   "id": "a854d5cf",
   "metadata": {},
   "outputs": [
    {
     "data": {
      "text/plain": [
       "array([[-9.28],\n",
       "       [ 5.16],\n",
       "       [ 0.76]])"
      ]
     },
     "execution_count": 42,
     "metadata": {},
     "output_type": "execute_result"
    }
   ],
   "source": [
    "linalg.inv(A).dot(B)"
   ]
  },
  {
   "cell_type": "markdown",
   "id": "20e00ba0",
   "metadata": {},
   "source": [
    "### Finding the determinant"
   ]
  },
  {
   "cell_type": "code",
   "execution_count": 43,
   "id": "0e8f6d79",
   "metadata": {},
   "outputs": [
    {
     "data": {
      "text/plain": [
       "array([[1, 3, 5],\n",
       "       [2, 5, 1],\n",
       "       [2, 3, 8]])"
      ]
     },
     "execution_count": 43,
     "metadata": {},
     "output_type": "execute_result"
    }
   ],
   "source": [
    "x = np.array([1,3,5,2,5,1,2,3,8]).reshape(3,3)\n",
    "x"
   ]
  },
  {
   "cell_type": "code",
   "execution_count": 44,
   "id": "62b7dd9d",
   "metadata": {},
   "outputs": [
    {
     "data": {
      "text/plain": [
       "-25.000000000000004"
      ]
     },
     "execution_count": 44,
     "metadata": {},
     "output_type": "execute_result"
    }
   ],
   "source": [
    "linalg.det(A)"
   ]
  },
  {
   "cell_type": "code",
   "execution_count": 45,
   "id": "a7cb8fc3",
   "metadata": {},
   "outputs": [
    {
     "data": {
      "text/plain": [
       "array([[1, 2],\n",
       "       [3, 4]])"
      ]
     },
     "execution_count": 45,
     "metadata": {},
     "output_type": "execute_result"
    }
   ],
   "source": [
    "y = np.array([1,2,3,4]).reshape(2,2)\n",
    "y"
   ]
  },
  {
   "cell_type": "code",
   "execution_count": 46,
   "id": "bb1042d8",
   "metadata": {},
   "outputs": [
    {
     "data": {
      "text/plain": [
       "-2.0"
      ]
     },
     "execution_count": 46,
     "metadata": {},
     "output_type": "execute_result"
    }
   ],
   "source": [
    "linalg.det(y)"
   ]
  },
  {
   "cell_type": "markdown",
   "id": "dd93c717",
   "metadata": {},
   "source": [
    "Eigenvalues and eigenvectors\n",
    "\n",
    "The eigenvalue-eigenvector problem is one of the most commonly employed linear algebra operations.\n",
    "\n",
    "In one popular form, the eigenvalue-eigenvector problem is to find for some square matrix \n",
    " "
   ]
  },
  {
   "cell_type": "code",
   "execution_count": 47,
   "id": "da4c936a",
   "metadata": {},
   "outputs": [
    {
     "data": {
      "text/plain": [
       "(array([-0.37228132+0.j,  5.37228132+0.j]),\n",
       " array([[-0.82456484, -0.41597356],\n",
       "        [ 0.56576746, -0.90937671]]))"
      ]
     },
     "execution_count": 47,
     "metadata": {},
     "output_type": "execute_result"
    }
   ],
   "source": [
    "linalg.eig(y)"
   ]
  },
  {
   "cell_type": "code",
   "execution_count": 48,
   "id": "c5cb2be5",
   "metadata": {},
   "outputs": [
    {
     "data": {
      "text/plain": [
       "(array([10.5540456 +0.j, -0.5873064 +0.j,  4.03326081+0.j]),\n",
       " array([[-0.51686204, -0.94195144,  0.11527992],\n",
       "        [-0.32845853,  0.31778071, -0.81936883],\n",
       "        [-0.79054957,  0.10836468,  0.56155611]]))"
      ]
     },
     "execution_count": 48,
     "metadata": {},
     "output_type": "execute_result"
    }
   ],
   "source": [
    "linalg.eig(x)"
   ]
  },
  {
   "cell_type": "code",
   "execution_count": null,
   "id": "62217706",
   "metadata": {},
   "outputs": [],
   "source": []
  }
 ],
 "metadata": {
  "kernelspec": {
   "display_name": "Python 3 (ipykernel)",
   "language": "python",
   "name": "python3"
  },
  "language_info": {
   "codemirror_mode": {
    "name": "ipython",
    "version": 3
   },
   "file_extension": ".py",
   "mimetype": "text/x-python",
   "name": "python",
   "nbconvert_exporter": "python",
   "pygments_lexer": "ipython3",
   "version": "3.9.13"
  }
 },
 "nbformat": 4,
 "nbformat_minor": 5
}
